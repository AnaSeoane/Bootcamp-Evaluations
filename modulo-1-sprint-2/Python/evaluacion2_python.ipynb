{
 "cells": [
  {
   "cell_type": "markdown",
   "metadata": {},
   "source": [
    "- **Nota**: Puede que tengáis algunos problemas para abrir el fichero, esto es por el `encoding` que tiene. Para solucionar este problema deberéis usar un encoding = \"latin-1\"\n",
    "\n",
    "- **Nota**: El fichero de `quijote.txt` debe encontrarse en una carpeta llamada `data`, diferente de donde se encuentra este fichero jupyter con la resolución.\n",
    "\n",
    "En esta evaluación tendremos que crearnos una clase. Estamos trabajando para una editorial y tienen muchos ficheros de tipo .txt. Quieren hacer un estudio de palabras de los textos que tienen, para ello nos piden que nos creemos una clase que:\n",
    "\n",
    "1. Reciba dos parámetros en el método constructor: \n",
    "\n",
    "    - La ruta donde se encuentra el fichero\n",
    "    - El nombre y la extensión del fichero que quieren abrir. \n",
    " "
   ]
  },
  {
   "cell_type": "code",
   "execution_count": 1,
   "metadata": {},
   "outputs": [],
   "source": [
    "import os"
   ]
  },
  {
   "cell_type": "code",
   "execution_count": 20,
   "metadata": {},
   "outputs": [],
   "source": [
    "class Texto:\n",
    "    \n",
    "    def __init__(self,ruta, fichero):\n",
    "        self.ruta = ruta\n",
    "        self.fichero = fichero\n",
    "        \n",
    "        \n",
    "    def apertura(self):\n",
    "    \n",
    "        with open(f'{self.ruta}/{self.fichero}', encoding='latin-1') as file:\n",
    "            file_source = file.read()\n",
    "        return file_source\n",
    "\n",
    "\n",
    "    def palabras(self, numero):\n",
    "        if type(numero) != int:\n",
    "            print(\"¡ERROR! La operación no se puede realizar, se necesita un número entero\")\n",
    "        \n",
    "        else:\n",
    "            with open(f'{self.ruta}/{self.fichero}', encoding='latin-1') as file:\n",
    "                file_source = file.read()\n",
    "                palabra = file_source.split()\n",
    "            print(palabra[:numero])\n",
    "        \n",
    "        \n",
    "    def lineas(self):\n",
    "        pregunta = input('¿Cuántas frases quieres leer? Si quieres leerlo todo, indica TODAS')\n",
    "        \n",
    "        if pregunta.upper() == 'TODAS' or pregunta.upper() == 'TODO':\n",
    "            with open(f'{self.ruta}/{self.fichero}', encoding='latin-1') as file:\n",
    "                file_source = file.read()\n",
    "            print(file_source)\n",
    "        else:\n",
    "            try: \n",
    "                with open(f'{self.ruta}/{self.fichero}', encoding='latin-1') as file:\n",
    "                    file_source = file.readlines()\n",
    "                print(''.join(file_source[:int(pregunta)]))\n",
    "            \n",
    "            except:\n",
    "                print('¡ERROR! La operación no se puede realizar, se necesita un número entero o la impresión de todas las líneas')\n",
    "                self.lineas()\n",
    "    \n",
    "    \n",
    "    def solo_quijote(self):\n",
    "\n",
    "        with open(f'{self.ruta}/{self.fichero}', encoding='latin-1') as file:\n",
    "            file_source = file.readlines()\n",
    "            quijote_libro = \"\".join(file_source[1780:74276])\n",
    "\n",
    "        return quijote_libro\n",
    "    \n",
    "    \n",
    "    def contar_palabras(self):\n",
    "        palabra_buscar = input('¿Qué palabra quieres contar dentro del Quijote?').lower()\n",
    "        libro_minus = self.solo_quijote().lower()\n",
    "        return libro_minus.count(palabra_buscar)        \n"
   ]
  },
  {
   "cell_type": "code",
   "execution_count": 21,
   "metadata": {},
   "outputs": [],
   "source": [
    "quijote = Texto('data','quijote.txt')"
   ]
  },
  {
   "cell_type": "markdown",
   "metadata": {},
   "source": [
    "2.  Tenga un método que nos abra el fichero en python, como un único *string*. Este método tiene que ser capaz de abrir cualquier tipo de fichero y que este ubicado en cualquier ubicación de nuestros ordenadores. "
   ]
  },
  {
   "cell_type": "code",
   "execution_count": 22,
   "metadata": {},
   "outputs": [],
   "source": [
    "texto_completo = quijote.apertura()"
   ]
  },
  {
   "cell_type": "markdown",
   "metadata": {},
   "source": [
    "3.  Tenga un método que lea un número \"X\" de palabras del texto. En este caso, el número de palabras que queremos leer debe ser un parámetro de este método. En este código deberemos incluir:\n",
    "    - Que si nos pasan como valor de número de palabras un número que no sea *integer*, nos salga un mensaje por pantalla que nos avise que la operación no se pueden hacer ya que necesitamos que sea un número *integer*."
   ]
  },
  {
   "cell_type": "code",
   "execution_count": 23,
   "metadata": {},
   "outputs": [
    {
     "name": "stdout",
     "output_type": "stream",
     "text": [
      "¡ERROR! La operación no se puede realizar, se necesita un número entero\n"
     ]
    }
   ],
   "source": [
    "quijote.palabras(3.5)"
   ]
  },
  {
   "cell_type": "code",
   "execution_count": 24,
   "metadata": {},
   "outputs": [
    {
     "name": "stdout",
     "output_type": "stream",
     "text": [
      "['Project', 'Gutenberg', 'Etext', 'of', 'Don', 'Quijote,', 'by', 'Cervantes,', 'in', 'Spanish']\n"
     ]
    }
   ],
   "source": [
    "quijote.palabras(10)"
   ]
  },
  {
   "cell_type": "markdown",
   "metadata": {},
   "source": [
    "4. Similar que en el paso anterior, crea un método que nos permita leer \"X\" lineas del texto. En este caso, el número de lineas que quiere leer el usuario no debe ser un parámetro del método. Tendremos que:\n",
    "\n",
    "    - Crear un *input* en el método que le pregunte al usuario cuántas líneas quiere leer\n",
    "\n",
    "    - Que tenga un control de errores por si el valor que nos pasa el usuario no es correcto, como por ejemplo un valor decimal. \n",
    "\n",
    "    - Además tenemos que tener en cuenta en el código que puede que el usuario quiera leer todas las líneas del archivo. Incluye en el programa el código necesario para que si el usuario nos indica que quiere leer todas las líneas el programa lo pueda hacer.  \n",
    "\n",
    "    **BONUS** En vez de devolver el resultado como una lista de *string* devuelvelo como un único *string*. "
   ]
  },
  {
   "cell_type": "code",
   "execution_count": 25,
   "metadata": {},
   "outputs": [
    {
     "name": "stdout",
     "output_type": "stream",
     "text": [
      "¡ERROR! La operación no se puede realizar, se necesita un número entero o la impresión de todas las líneas\n",
      "Project Gutenberg Etext of Don Quijote, by Cervantes, in Spanish\n",
      "\n",
      "#2 in our series by Cervantes\n",
      "\n",
      "\n",
      "\n",
      "We will be presenting two versions of this, one in HTML and one\n",
      "\n"
     ]
    }
   ],
   "source": [
    "quijote.lineas()"
   ]
  },
  {
   "cell_type": "markdown",
   "metadata": {},
   "source": [
    "5. En este punto de la evaluación ya os habréis dado cuenta que en este fichero las primeras lineas no corresponden al quijote. Pero entonces... ¿en qué punto empieza el libro del quijote? En concreto, el libro está comprendido entre la lineas 1780 y 74276. Crea un método que solo nos devuelva el contenido del libro, sin la introducción inicial. "
   ]
  },
  {
   "cell_type": "code",
   "execution_count": 26,
   "metadata": {},
   "outputs": [],
   "source": [
    "libro_quijote = quijote.solo_quijote()"
   ]
  },
  {
   "cell_type": "markdown",
   "metadata": {},
   "source": [
    "6.  Crea un último método en la clase que nos permita extraer las veces que aparece determinada palabra en el libro. Para eso este método deberá: \n",
    "\n",
    "    - Recibir la palabra o palabras que quiere buscar el usuario en el texto. \n",
    "    - Devolver el número de veces que aparece dicha palabra. \n",
    "    - Para confirmar que vuestro código, deberéis buscar las siguientes palabras como ejemplos de este método: \n",
    "\n",
    "        - Quijote, debemos tener en cuenta que aparezca en mayúscula o en minúscula, es decir, \"Quijote\" o \"quijote\"\n",
    "\n",
    "        - Alonso,  debemos tener en cuenta que aparezca en mayúscula o en minúscula, es decir, \"Quijote\" o \"quijote\"\n",
    "\n",
    "        - Don Quijote, debemos tener en cuenta que aparezca en mayúscula o en minúscula, es decir, \"Quijote\" o \"quijote\""
   ]
  },
  {
   "cell_type": "code",
   "execution_count": 27,
   "metadata": {},
   "outputs": [
    {
     "data": {
      "text/plain": [
       "2158"
      ]
     },
     "execution_count": 27,
     "metadata": {},
     "output_type": "execute_result"
    }
   ],
   "source": [
    "quijote.contar_palabras()"
   ]
  }
 ],
 "metadata": {
  "kernelspec": {
   "display_name": "Python 3",
   "language": "python",
   "name": "python3"
  },
  "language_info": {
   "codemirror_mode": {
    "name": "ipython",
    "version": 3
   },
   "file_extension": ".py",
   "mimetype": "text/x-python",
   "name": "python",
   "nbconvert_exporter": "python",
   "pygments_lexer": "ipython3",
   "version": "3.10.11"
  },
  "orig_nbformat": 4
 },
 "nbformat": 4,
 "nbformat_minor": 2
}
