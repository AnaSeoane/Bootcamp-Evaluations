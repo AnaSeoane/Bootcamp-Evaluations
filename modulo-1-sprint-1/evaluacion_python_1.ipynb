{
 "cells": [
  {
   "attachments": {},
   "cell_type": "markdown",
   "metadata": {},
   "source": [
    "**Métodos de *strings***\n",
    "\n",
    "Dado el siguiente *string* \n",
    "\n",
    "```python\n",
    "\n",
    "string = \"\"\"Hoy estamos en una clase de repaso,\n",
    "el objetivo es intentar solucionar todas vuestras dudas, \n",
    "preguntad todo lo que queráis! \n",
    "\"\"\"\n",
    "```"
   ]
  },
  {
   "cell_type": "code",
   "execution_count": 2,
   "metadata": {},
   "outputs": [],
   "source": [
    "string = \"\"\"Hoy estamos en una clase de repaso,\n",
    "el objetivo es intentar solucionar todas vuestras dudas, \n",
    "preguntad todo lo que queráis!\"\"\""
   ]
  },
  {
   "attachments": {},
   "cell_type": "markdown",
   "metadata": {},
   "source": [
    "Contesta a las siguientes preguntas: "
   ]
  },
  {
   "attachments": {},
   "cell_type": "markdown",
   "metadata": {},
   "source": [
    "1️⃣ Crea dos variables nuevas: \n",
    "    - Una con el *string* en mayúsculas\n",
    "    - Otra con las letras en minúsculas"
   ]
  },
  {
   "cell_type": "code",
   "execution_count": 3,
   "metadata": {},
   "outputs": [
    {
     "name": "stdout",
     "output_type": "stream",
     "text": [
      "HOY ESTAMOS EN UNA CLASE DE REPASO,\n",
      "EL OBJETIVO ES INTENTAR SOLUCIONAR TODAS VUESTRAS DUDAS, \n",
      "PREGUNTAD TODO LO QUE QUERÁIS!\n"
     ]
    }
   ],
   "source": [
    "# Creando variable 1 (todo mayúsculas):\n",
    "string_mayus = string.upper()\n",
    "\n",
    "# aunque podría imprimir la variable solo citando, lo hago con print para que mantenga los saltos de línea:\n",
    "print(string_mayus)"
   ]
  },
  {
   "cell_type": "code",
   "execution_count": 4,
   "metadata": {},
   "outputs": [
    {
     "name": "stdout",
     "output_type": "stream",
     "text": [
      "hoy estamos en una clase de repaso,\n",
      "el objetivo es intentar solucionar todas vuestras dudas, \n",
      "preguntad todo lo que queráis!\n"
     ]
    }
   ],
   "source": [
    "# Creando variable 2 (todo minúsculas):\n",
    "string_minus = string.lower()\n",
    "\n",
    "# aunque podría imprimir la variable solo citando, lo hago con print para que mantenga los saltos de línea:\n",
    "print(string_minus)"
   ]
  },
  {
   "attachments": {},
   "cell_type": "markdown",
   "metadata": {},
   "source": [
    "\n",
    "2️⃣ Pon todas las primeras letras del *string* en mayúscula"
   ]
  },
  {
   "cell_type": "code",
   "execution_count": 5,
   "metadata": {},
   "outputs": [
    {
     "name": "stdout",
     "output_type": "stream",
     "text": [
      "Hoy Estamos En Una Clase De Repaso,\n",
      "El Objetivo Es Intentar Solucionar Todas Vuestras Dudas, \n",
      "Preguntad Todo Lo Que Queráis!\n"
     ]
    }
   ],
   "source": [
    "string_title = string.title()\n",
    "\n",
    "# aunque podría imprimir la variable solo citando, lo hago con print para que mantenga los saltos de línea:\n",
    "print(string_title)"
   ]
  },
  {
   "attachments": {},
   "cell_type": "markdown",
   "metadata": {},
   "source": [
    "3️⃣ Separa el *string*  por los espacios y almacena el resultado en una lista llamanda `texto_lista`"
   ]
  },
  {
   "cell_type": "code",
   "execution_count": 25,
   "metadata": {},
   "outputs": [
    {
     "data": {
      "text/plain": [
       "['Hoy',\n",
       " 'estamos',\n",
       " 'en',\n",
       " 'una',\n",
       " 'clase',\n",
       " 'de',\n",
       " 'repaso,',\n",
       " 'el',\n",
       " 'objetivo',\n",
       " 'es',\n",
       " 'intentar',\n",
       " 'solucionar',\n",
       " 'todas',\n",
       " 'vuestras',\n",
       " 'dudas,',\n",
       " 'preguntad',\n",
       " 'todo',\n",
       " 'lo',\n",
       " 'que',\n",
       " 'queráis!']"
      ]
     },
     "execution_count": 25,
     "metadata": {},
     "output_type": "execute_result"
    }
   ],
   "source": [
    "texto_lista = string.split()\n",
    "texto_lista"
   ]
  },
  {
   "attachments": {},
   "cell_type": "markdown",
   "metadata": {},
   "source": [
    "4️⃣ De la lista obtenida en el ejercicio anterior, selecciona solo los 5 primero elementos y almacena los resultados en una variable que se llame `texto_lista_corta` "
   ]
  },
  {
   "cell_type": "code",
   "execution_count": 7,
   "metadata": {},
   "outputs": [
    {
     "data": {
      "text/plain": [
       "['Hoy', 'estamos', 'en', 'una', 'clase']"
      ]
     },
     "execution_count": 7,
     "metadata": {},
     "output_type": "execute_result"
    }
   ],
   "source": [
    "texto_lista_corta = texto_lista[:5]\n",
    "texto_lista_corta"
   ]
  },
  {
   "attachments": {},
   "cell_type": "markdown",
   "metadata": {},
   "source": [
    "5️⃣ De la lista obtenida en el ejercicio 5. Vuelve a convertirlo en *string* "
   ]
  },
  {
   "cell_type": "code",
   "execution_count": 8,
   "metadata": {},
   "outputs": [
    {
     "data": {
      "text/plain": [
       "'Hoy estamos en una clase'"
      ]
     },
     "execution_count": 8,
     "metadata": {},
     "output_type": "execute_result"
    }
   ],
   "source": [
    "texto_corto = ' '.join(texto_lista_corta)\n",
    "texto_corto"
   ]
  },
  {
   "attachments": {},
   "cell_type": "markdown",
   "metadata": {},
   "source": [
    "6️⃣ Con el *string* obtenido en el paso anterior: \n",
    "\n",
    "    - ¿Esta la palabra \"el\" en el *string*?"
   ]
  },
  {
   "cell_type": "code",
   "execution_count": 9,
   "metadata": {},
   "outputs": [
    {
     "name": "stdout",
     "output_type": "stream",
     "text": [
      "\"el\" no se encuentra en el string\n"
     ]
    }
   ],
   "source": [
    "# Para poder responder a la pregunta de manera visual, añadimos condicional: \n",
    "\n",
    "if texto_corto.find('el') == -1:\n",
    "    print('\"el\" no se encuentra en el string')\n",
    "else:\n",
    "    print(texto_corto.find('el'))\n",
    "\n",
    "\n",
    "# Si no hubiésemos utilizado el condicional, habríamos sabido que lo consultado no se encuentra en el string porque el resultado habría sido '-1'. Se escribiría así:\n",
    "# print(texto_corto.find('el'))\n",
    "\n",
    "# También podríamos haber utilizado .index() <- En este caso, si lo buscado no se encuentra, nos habría devuelto error."
   ]
  },
  {
   "attachments": {},
   "cell_type": "markdown",
   "metadata": {},
   "source": [
    "    - Reemplaza \"Hoy\" por nada"
   ]
  },
  {
   "cell_type": "code",
   "execution_count": 10,
   "metadata": {},
   "outputs": [
    {
     "data": {
      "text/plain": [
       "' estamos en una clase'"
      ]
     },
     "execution_count": 10,
     "metadata": {},
     "output_type": "execute_result"
    }
   ],
   "source": [
    "# creamos nueva variable porque los métodos de string no sobreescriben:\n",
    "texto_corto_mod = texto_corto.replace('Hoy','')\n",
    "texto_corto_mod"
   ]
  },
  {
   "attachments": {},
   "cell_type": "markdown",
   "metadata": {},
   "source": [
    "    - El ejercicio anterior nos ha dejado espacios al inicio del string, eliminalos"
   ]
  },
  {
   "cell_type": "code",
   "execution_count": 11,
   "metadata": {},
   "outputs": [
    {
     "data": {
      "text/plain": [
       "'estamos en una clase'"
      ]
     },
     "execution_count": 11,
     "metadata": {},
     "output_type": "execute_result"
    }
   ],
   "source": [
    "# creamos nueva variable porque los métodos de string no sobreescriben:\n",
    "texto_corto_mod2 = texto_corto_mod.strip()\n",
    "texto_corto_mod2"
   ]
  },
  {
   "attachments": {},
   "cell_type": "markdown",
   "metadata": {},
   "source": [
    "**Encuentra el número que no está en la lista**\n",
    "\n",
    "Tenemos una lista desordenada con números positivos de 1 a n. Siempre faltará un sólo número de esta lista aleatoria, ¿cómo identifico cuál falta? Cread un programa para que este código devuelva los resultados deseados:\n",
    "\n",
    "```python\n",
    "lista1 = [3,7,1,2,8,4,5] # nos tiene que devolver 6\n",
    "lista2 = [4,6,1,3,5] #  nos tiene que devolver 2\n",
    "lista3 = [34,35,36,38,39,40] # nos tiene que devolver 37\n",
    "```\n"
   ]
  },
  {
   "cell_type": "code",
   "execution_count": 12,
   "metadata": {},
   "outputs": [],
   "source": [
    "lista1 = [3,7,1,2,8,4,5]\n",
    "lista2 = [4,6,1,3,5] \n",
    "lista3 = [34,35,36,38,39,40]\n"
   ]
  },
  {
   "cell_type": "code",
   "execution_count": 13,
   "metadata": {},
   "outputs": [
    {
     "name": "stdout",
     "output_type": "stream",
     "text": [
      "El valor que falta en lista1 es: 6\n",
      "El valor que falta en lista2 es: 2\n",
      "El valor que falta en lista3 es: 37\n"
     ]
    }
   ],
   "source": [
    "# Como en las tres líneas, los elementos son continuos (a excepción del número que falta), creamos un rango desde el valor \n",
    "# mínimo de la lista hasta el máximo, y checkeamos si cada uno de esos valores está en la lista:\n",
    "\n",
    "# Comprobamos lista1:\n",
    "for check1 in range(min(lista1),max(lista1)+1):\n",
    "    if (check1 in lista1) == False:\n",
    "        print(f'El valor que falta en lista1 es: {check1}')\n",
    "        break\n",
    "\n",
    "# Comprobamos lista2:\n",
    "for check2 in range(min(lista2),max(lista2)+1):\n",
    "    if (check2 in lista2) == False:\n",
    "        print(f'El valor que falta en lista2 es: {check2}')\n",
    "        break\n",
    "\n",
    "# Comprobamos lista3:\n",
    "for check3 in range(min(lista3),max(lista3)+1):\n",
    "    if (check3 in lista3) == False:\n",
    "        print(f'El valor que falta en lista3 es: {check3}')\n",
    "        break\n",
    "\n",
    "# aunque no era necesario para este ejercicio, he incluido el break para que, al encontrar el valor que falta, \n",
    "# no siga revisando, y pueda obtener el valor correcto en el ejercicio siguiente (BONUS)."
   ]
  },
  {
   "attachments": {},
   "cell_type": "markdown",
   "metadata": {},
   "source": [
    "BONUS: Introduce los resultados obtenidos en un diccionario, indicando que numero falta para cada una de las listas:\n",
    "```python\n",
    "# por ejemplo\n",
    "\n",
    "resultados = {'falta_lista_1': valor_numerico_1, 'falta_lista_2': valor_numerico_2, 'falta_lista_3': valor_numerico_3}\n",
    "```"
   ]
  },
  {
   "cell_type": "code",
   "execution_count": 14,
   "metadata": {},
   "outputs": [
    {
     "data": {
      "text/plain": [
       "{'falta_lista_1': 6, 'falta_lista_2': 2, 'falta_lista_3': 37}"
      ]
     },
     "execution_count": 14,
     "metadata": {},
     "output_type": "execute_result"
    }
   ],
   "source": [
    "resultados = {'falta_lista_1': check1, 'falta_lista_2': check2, 'falta_lista_3': check3}\n",
    "resultados"
   ]
  },
  {
   "attachments": {},
   "cell_type": "markdown",
   "metadata": {},
   "source": [
    "**Mover los ceros a la izquierda**\n",
    "\n",
    "Nos dan un *string* con números aleatorios. Algunos de ellos son 0. Encuentra todos los ceros y ponlos al principio de la lista, manteniendo el orden de los demás números.\n",
    "\n",
    "Ejemplo:\n",
    "\n",
    "```python\n",
    "A = [1,10,88,0,59,63,0,20,0]\n",
    "\n",
    "# tiene que devolver\n",
    "[0, 0, 0, 1, 10, 88, 59, 63, 20]\n",
    "```"
   ]
  },
  {
   "cell_type": "code",
   "execution_count": 15,
   "metadata": {},
   "outputs": [
    {
     "data": {
      "text/plain": [
       "[0, 0, 0, 1, 10, 88, 59, 63, 20]"
      ]
     },
     "execution_count": 15,
     "metadata": {},
     "output_type": "execute_result"
    }
   ],
   "source": [
    "A = [1,10,88,0,59,63,0,20,0]\n",
    "\n",
    "# Creamos nueva lista vacía en la que vamos a incluir los campos ordenados:\n",
    "A_mod = []\n",
    "\n",
    "# Checkeamos cada valor, si es 0 lo incluimos al principio, si no lo es, lo añadimos al final de la lista:\n",
    "for valores in A:\n",
    "    if valores == 0:\n",
    "        A_mod.insert(0,valores)\n",
    "    else:\n",
    "        A_mod.append(valores)\n",
    "\n",
    "A_mod"
   ]
  },
  {
   "attachments": {},
   "cell_type": "markdown",
   "metadata": {},
   "source": [
    "**Invertir palabras de una frase**\n",
    "\n",
    "Nos dan una frase en que quieren que las letras de cada palabra acaben teniendo el orden invertido, manteniendo el orden de las palabras.\n",
    "\n",
    "```python\n",
    "frase = 'Hola Ada'\n",
    "print(frase) # nos daría 'aloH adA'\n",
    "```"
   ]
  },
  {
   "cell_type": "code",
   "execution_count": 55,
   "metadata": {},
   "outputs": [
    {
     "name": "stdout",
     "output_type": "stream",
     "text": [
      "aloH adA\n"
     ]
    }
   ],
   "source": [
    "frase = 'Hola Ada'\n",
    "\n",
    "# En script no podemos usar reverse(), pero sí en listas. Primero, convertimos la frase en lista:\n",
    "lista_frase = frase.split(\" \")\n",
    "\n",
    "frase_reverse = []\n",
    "\n",
    "# Para cada palabra: converitimos a lista para poder hacer reverse, hacemos reverse y\n",
    "# después lo añadimos a la lista de frase_reverse:\n",
    "for palabra in lista_frase:\n",
    "    letras_palabra = list(palabra)\n",
    "    letras_palabra.reverse()\n",
    "    frase_reverse.append(\"\".join(letras_palabra))  \n",
    "\n",
    "# Por último, convertimos la lista de la frase en String:\n",
    "frase_reverse = \" \".join(frase_reverse)\n",
    "print(frase_reverse)"
   ]
  },
  {
   "attachments": {},
   "cell_type": "markdown",
   "metadata": {},
   "source": [
    "###  ¿Es un DNI valido?\n",
    "\n",
    "Los DNI españoles pueden ser:\n",
    "\n",
    "- NIF (Numero de Identificación Fiscal) - 8 numeros y una letra, o\n",
    "- NIE (Numero de Identificación de Extranjeros) - 1 letra, 7 numeros y 1 letra."
   ]
  },
  {
   "cell_type": "code",
   "execution_count": 1,
   "metadata": {},
   "outputs": [],
   "source": [
    "lista_dni = [\"X-1234567-Z\", \"X-1234567\", \"12345678-M\", \"1234567-T\", \"12345677\"] "
   ]
  },
  {
   "cell_type": "code",
   "execution_count": 2,
   "metadata": {},
   "outputs": [],
   "source": [
    "# Especificamos lo que son letras y lo que son números:\n",
    "letras = 'ABCDEFGHIJKLMNÑOPQRSTUVWXYZ'\n",
    "\n",
    "\n",
    "# Indicamos cuál es el formato válido para DNI y NIE:\n",
    "DNI_check = ['numero', 'numero', 'numero', 'numero', 'numero', 'numero', 'numero', 'numero', 'letra']\n",
    "NIE_check = ['letra', 'numero', 'numero', 'numero', 'numero', 'numero', 'numero', 'numero', 'letra']"
   ]
  },
  {
   "cell_type": "code",
   "execution_count": 3,
   "metadata": {},
   "outputs": [
    {
     "name": "stdout",
     "output_type": "stream",
     "text": [
      "X-1234567-Z no es un documento válido\n",
      "X-1234567 no es un documento válido\n",
      "12345678-M no es un documento válido\n",
      "1234567-T no es un documento válido\n",
      "12345677 no es un documento válido\n"
     ]
    }
   ],
   "source": [
    "\n",
    "# Creamos una lista vacía para ir trabajando:\n",
    "lista_evaluar = []\n",
    "\n",
    "# Evaluamos documento a documento\n",
    "for documento in lista_dni:\n",
    "    \n",
    "    for valor in documento: # ahora queremos acceder a cada dígito dentro del documento\n",
    "        if valor in letras: # evaluamos si es letra, y si lo es lo añadimos así a lista_evaluar\n",
    "            lista_evaluar.append('letra')\n",
    "\n",
    "        elif valor in str(range(10)): # evaluamos si es número, y si lo es lo añadimos así a lista_evaluar\n",
    "            lista_evaluar.append('numero') \n",
    "    if lista_evaluar == DNI_check or lista_evaluar == NIE_check: # evaluamos si la estructura del documento es de DNI o NIE\n",
    "        print(f'{documento} es un documento válido')\n",
    "    elif lista_evaluar != DNI_check or lista_evaluar != NIE_check:\n",
    "        print(f'{documento} no es un documento válido')\n",
    "    lista_evaluar.clear() # vaciamos la lista_evaluar para que empiece vacía antes de evaluar el documento siguiente"
   ]
  },
  {
   "attachments": {},
   "cell_type": "markdown",
   "metadata": {},
   "source": [
    "**BONUS: Encuentra los k números más cerca a X**\n",
    "\n",
    "\n",
    "Haz una programa que compare los contenidos de una lista a un número dado X. Queremos que nos devuelva los k números que son más parecidos al número dado.\n",
    "\n",
    "Ejemplo:\n",
    "```python\n",
    "L = [4, 19, -5, 100, 53, 43, 74, -83, 13.5, 26]\n",
    "# Dados los siguientes valores \n",
    "x =30\n",
    "k = 3 # el número de números que tendremos que buscar en la lista que se parecen a 30 \n",
    "# El output debería ser igual a [26, 19, 43]\n",
    "```"
   ]
  },
  {
   "cell_type": "code",
   "execution_count": 81,
   "metadata": {},
   "outputs": [],
   "source": [
    "L = [4, 19, -5, 100, 53, 43, 74, -83, 13.5, 26]\n",
    "x = int(input('Dime un número'))\n",
    "k = int(input('Ahora dime otro del 1 al 10'))"
   ]
  },
  {
   "cell_type": "code",
   "execution_count": 82,
   "metadata": {},
   "outputs": [
    {
     "name": "stdout",
     "output_type": "stream",
     "text": [
      "Los 3 valores más parecidos al número 30 son: [26, 19, 43]\n"
     ]
    }
   ],
   "source": [
    "# Paso 1. Restamos cada valor para conocer las diferencias, y lo añadimos a la variable 'lista_diferencia':\n",
    "lista_diferencia = []\n",
    "\n",
    "for numero in L:\n",
    "    lista_diferencia.append(abs(numero-x))\n",
    "\n",
    "# Paso 2. Ordenamos de menor a mayor las diferencias, creando nueva lista:\n",
    "diferencia_ordenada = sorted(lista_diferencia)\n",
    "\n",
    "# Paso 3. Creamos lista vacía (resultado) y creamos contador de vueltas, que empiece desde cero:\n",
    "\n",
    "resultado = []\n",
    "repeticiones = 0\n",
    "\n",
    "# Paso 4. Revisamos cada valor dentro de la lista 'diferencia_ordenada'. \n",
    "# Paramos cuando el número de valores evaluados sea igual a 'k':\n",
    "\n",
    "for valor in diferencia_ordenada:\n",
    "    \n",
    "    # Paso 5. Añadimos nuevo for donde conectamos, con un zip, la relación entre el número y la diferencia\n",
    "    for numero, diferencia in zip(L,lista_diferencia):\n",
    "        \n",
    "        # Después comprobamos si el valor(del for anterior) coincide con el número de 'diferencia'\n",
    "        if valor == diferencia:\n",
    "            \n",
    "            # Si coincide, lo apendeamos a la lista 'resultado':\n",
    "            resultado.append(numero)\n",
    "            \n",
    "    repeticiones += 1\n",
    "    if repeticiones == k:\n",
    "        break\n",
    "                \n",
    "print(f'Los {k} valores más parecidos al número {x} son: {resultado}')\n"
   ]
  }
 ],
 "metadata": {
  "kernelspec": {
   "display_name": "Python 3",
   "language": "python",
   "name": "python3"
  },
  "language_info": {
   "codemirror_mode": {
    "name": "ipython",
    "version": 3
   },
   "file_extension": ".py",
   "mimetype": "text/x-python",
   "name": "python",
   "nbconvert_exporter": "python",
   "pygments_lexer": "ipython3",
   "version": "3.10.11"
  },
  "orig_nbformat": 4,
  "vscode": {
   "interpreter": {
    "hash": "31f2aee4e71d21fbe5cf8b01ff0e069b9275f58929596ceb00d14d90e3e16cd6"
   }
  }
 },
 "nbformat": 4,
 "nbformat_minor": 2
}
