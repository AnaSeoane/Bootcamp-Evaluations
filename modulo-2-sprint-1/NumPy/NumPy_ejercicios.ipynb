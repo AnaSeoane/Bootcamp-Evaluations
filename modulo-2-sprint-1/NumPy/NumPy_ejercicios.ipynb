{
 "cells": [
  {
   "cell_type": "markdown",
   "metadata": {},
   "source": [
    "## Ejercicios de Numpy\n",
    "___\n",
    "___"
   ]
  },
  {
   "cell_type": "markdown",
   "metadata": {},
   "source": [
    "1. Importa la librería de NumPy."
   ]
  },
  {
   "cell_type": "code",
   "execution_count": 1,
   "metadata": {},
   "outputs": [],
   "source": [
    "import numpy as np"
   ]
  },
  {
   "cell_type": "markdown",
   "metadata": {},
   "source": [
    "2. Crea un array de 1 dimension y 10 elementos."
   ]
  },
  {
   "cell_type": "code",
   "execution_count": 5,
   "metadata": {},
   "outputs": [
    {
     "data": {
      "text/plain": [
       "array([23, 41, 38, 36, 16, 41, 48, 34, 36, 28])"
      ]
     },
     "execution_count": 5,
     "metadata": {},
     "output_type": "execute_result"
    }
   ],
   "source": [
    "array_uni = np.random.randint(1, 50, (10))\n",
    "array_uni"
   ]
  },
  {
   "cell_type": "markdown",
   "metadata": {},
   "source": [
    "Utilizo el método np.random.randint() porque:\n",
    "- Quiero que me cree valores aleatorios (por eso no uso np.array, np.ones, np.zeros o np.empty)\n",
    "- Quiero que sean números más allá del 0 al 9 (por eos no uso np.arange)\n",
    "- Quiero que sean números enteros (por eso no uso np.random.random_sample o np.random.rand)\n",
    "___"
   ]
  },
  {
   "cell_type": "markdown",
   "metadata": {},
   "source": [
    "3. Reemplaza todos los números impares por el valor \"impar\" y los pares por \"par\". Para hacer esto os tendréis que crear un array nuevo donde vayáis añadiendo los valores nuevos."
   ]
  },
  {
   "cell_type": "code",
   "execution_count": 8,
   "metadata": {},
   "outputs": [
    {
     "name": "stdout",
     "output_type": "stream",
     "text": [
      "['impar' 'impar' 'par' 'par' 'par' 'impar' 'par' 'par' 'par' 'par']\n"
     ]
    }
   ],
   "source": [
    "par_impar = []\n",
    "\n",
    "for num in array_uni:\n",
    "    if num % 2 == 0:\n",
    "        par_impar.append('par')\n",
    "    elif num % 2 != 0:\n",
    "        par_impar.append('impar')\n",
    "\n",
    "par_impar_arr = np.array(par_impar)\n",
    "print(par_impar_arr)"
   ]
  },
  {
   "cell_type": "markdown",
   "metadata": {},
   "source": [
    "___\n",
    "4. Cambiad la forma del array del ejercicio 3 a un array de 2 filas y 5 columnas."
   ]
  },
  {
   "cell_type": "code",
   "execution_count": 10,
   "metadata": {},
   "outputs": [
    {
     "data": {
      "text/plain": [
       "array([['impar', 'impar', 'par', 'par', 'par'],\n",
       "       ['impar', 'par', 'par', 'par', 'par']], dtype='<U5')"
      ]
     },
     "execution_count": 10,
     "metadata": {},
     "output_type": "execute_result"
    }
   ],
   "source": [
    "par_impar_arr = par_impar_arr .reshape(2, 5)\n",
    "par_impar_arr"
   ]
  },
  {
   "cell_type": "markdown",
   "metadata": {},
   "source": [
    "___\n",
    "5. Extrae los elementos comunes de los siguientes arrays:\n",
    "    ```\n",
    "    python\n",
    "    array1 = np.array([1,2,3,2,3,4,3,4,5,6])\n",
    "    array2 = np.array([7,2,10,2,7,4,9,4,9,8])\n",
    "    ```"
   ]
  },
  {
   "cell_type": "code",
   "execution_count": 11,
   "metadata": {},
   "outputs": [],
   "source": [
    "array1 = np.array([1,2,3,2,3,4,3,4,5,6])\n",
    "array2 = np.array([7,2,10,2,7,4,9,4,9,8])"
   ]
  },
  {
   "cell_type": "code",
   "execution_count": 12,
   "metadata": {},
   "outputs": [
    {
     "data": {
      "text/plain": [
       "array([2, 4])"
      ]
     },
     "execution_count": 12,
     "metadata": {},
     "output_type": "execute_result"
    }
   ],
   "source": [
    "comun = np.intersect1d(array1, array2)\n",
    "comun"
   ]
  },
  {
   "cell_type": "markdown",
   "metadata": {},
   "source": [
    "___\n",
    "6. Extraed los elementos que están en el array1 pero no en el array2."
   ]
  },
  {
   "cell_type": "code",
   "execution_count": 15,
   "metadata": {},
   "outputs": [
    {
     "data": {
      "text/plain": [
       "array([1, 3, 5, 6])"
      ]
     },
     "execution_count": 15,
     "metadata": {},
     "output_type": "execute_result"
    }
   ],
   "source": [
    "arr1_notarr2 = np.setdiff1d(array1, array2)\n",
    "arr1_notarr2"
   ]
  },
  {
   "cell_type": "markdown",
   "metadata": {},
   "source": [
    "___\n",
    "7. Extraed las posiciones donde tengamos elementos que sean iguales."
   ]
  },
  {
   "cell_type": "code",
   "execution_count": 17,
   "metadata": {},
   "outputs": [
    {
     "data": {
      "text/plain": [
       "array([1, 3, 5, 7])"
      ]
     },
     "execution_count": 17,
     "metadata": {},
     "output_type": "execute_result"
    }
   ],
   "source": [
    "# Hago un where para ver qué posiciones son las que coinciden. Me quedo con index[0] porque devuelve un array con dos valores:\n",
    "np.where(array1 == array2)[0]"
   ]
  },
  {
   "cell_type": "markdown",
   "metadata": {},
   "source": [
    "___\n",
    "8. Cread un array de 3 filas y 5 columnas, con números enteros del 0 al 50. Una vez creado, extrae los valores que sean menores que 10 y mayores que 40."
   ]
  },
  {
   "cell_type": "code",
   "execution_count": 20,
   "metadata": {},
   "outputs": [
    {
     "data": {
      "text/plain": [
       "array([[48, 48, 17, 18,  4],\n",
       "       [12, 17, 25,  4, 40],\n",
       "       [41, 10, 33, 38, 10]])"
      ]
     },
     "execution_count": 20,
     "metadata": {},
     "output_type": "execute_result"
    }
   ],
   "source": [
    "array_bi = np.random.randint(0, 50, (3, 5))\n",
    "array_bi"
   ]
  },
  {
   "cell_type": "code",
   "execution_count": 23,
   "metadata": {},
   "outputs": [
    {
     "data": {
      "text/plain": [
       "array([48, 48,  4,  4, 41])"
      ]
     },
     "execution_count": 23,
     "metadata": {},
     "output_type": "execute_result"
    }
   ],
   "source": [
    "# Creamos las dos condiciones para facilitar la lectura del código, y luego seleccionamos el array_bi donde se cumpla alguna de las dos condiciones (son excluyentes ambas):\n",
    "cond1 = array_bi < 10\n",
    "cond2 = array_bi > 40\n",
    "\n",
    "array_bi[cond1 | cond2]"
   ]
  },
  {
   "cell_type": "markdown",
   "metadata": {},
   "source": [
    "___\n",
    "9. Cread un array de 5x3 con números decimales aleatorios entre el 5 y el 10."
   ]
  },
  {
   "cell_type": "code",
   "execution_count": 24,
   "metadata": {},
   "outputs": [
    {
     "data": {
      "text/plain": [
       "array([[6.06619662, 7.03154384, 6.45817936],\n",
       "       [5.28655379, 9.26684464, 6.66597908],\n",
       "       [9.71760132, 8.01373997, 8.38637833],\n",
       "       [5.30198527, 6.67072041, 8.27480601],\n",
       "       [8.1835475 , 9.45577815, 7.73256381]])"
      ]
     },
     "execution_count": 24,
     "metadata": {},
     "output_type": "execute_result"
    }
   ],
   "source": [
    "array_dec = np.random.uniform(5, 10, size=(5, 3))\n",
    "array_dec"
   ]
  },
  {
   "cell_type": "markdown",
   "metadata": {},
   "source": [
    "___\n",
    "10. Crea un array de tres dimensiones de 2x4x7 con números entre el 1 y el 20"
   ]
  },
  {
   "cell_type": "code",
   "execution_count": 25,
   "metadata": {},
   "outputs": [
    {
     "data": {
      "text/plain": [
       "array([[[11,  5, 13, 13, 11,  5, 17],\n",
       "        [ 9, 12,  9, 18, 14, 14, 17],\n",
       "        [ 7, 13, 14,  5, 13,  3,  3],\n",
       "        [19,  8, 14, 13,  5, 13, 11]],\n",
       "\n",
       "       [[19,  5, 13,  5, 10,  3,  8],\n",
       "        [13, 16, 17, 18,  7, 18, 14],\n",
       "        [14,  5,  5, 15, 17,  3,  8],\n",
       "        [15, 15,  3,  7, 11, 18, 14]]])"
      ]
     },
     "execution_count": 25,
     "metadata": {},
     "output_type": "execute_result"
    }
   ],
   "source": [
    "array_multi = np.random.randint(1, 20, (2, 4, 7))\n",
    "array_multi"
   ]
  },
  {
   "cell_type": "markdown",
   "metadata": {},
   "source": [
    "- Transponed el array para que tenga 4 matrices, 7 filas y 2 columnas"
   ]
  },
  {
   "cell_type": "code",
   "execution_count": 26,
   "metadata": {},
   "outputs": [
    {
     "data": {
      "text/plain": [
       "array([[[11, 19],\n",
       "        [ 5,  5],\n",
       "        [13, 13],\n",
       "        [13,  5],\n",
       "        [11, 10],\n",
       "        [ 5,  3],\n",
       "        [17,  8]],\n",
       "\n",
       "       [[ 9, 13],\n",
       "        [12, 16],\n",
       "        [ 9, 17],\n",
       "        [18, 18],\n",
       "        [14,  7],\n",
       "        [14, 18],\n",
       "        [17, 14]],\n",
       "\n",
       "       [[ 7, 14],\n",
       "        [13,  5],\n",
       "        [14,  5],\n",
       "        [ 5, 15],\n",
       "        [13, 17],\n",
       "        [ 3,  3],\n",
       "        [ 3,  8]],\n",
       "\n",
       "       [[19, 15],\n",
       "        [ 8, 15],\n",
       "        [14,  3],\n",
       "        [13,  7],\n",
       "        [ 5, 11],\n",
       "        [13, 18],\n",
       "        [11, 14]]])"
      ]
     },
     "execution_count": 26,
     "metadata": {},
     "output_type": "execute_result"
    }
   ],
   "source": [
    "array_multi_tp = np.transpose(array_multi, (1, 2, 0))\n",
    "array_multi_tp"
   ]
  }
 ],
 "metadata": {
  "kernelspec": {
   "display_name": "adalabenv",
   "language": "python",
   "name": "python3"
  },
  "language_info": {
   "codemirror_mode": {
    "name": "ipython",
    "version": 3
   },
   "file_extension": ".py",
   "mimetype": "text/x-python",
   "name": "python",
   "nbconvert_exporter": "python",
   "pygments_lexer": "ipython3",
   "version": "3.10.11"
  },
  "orig_nbformat": 4
 },
 "nbformat": 4,
 "nbformat_minor": 2
}
