{
 "cells": [
  {
   "cell_type": "markdown",
   "metadata": {},
   "source": [
    "### PAIR II MÓDULO 3: Test Estadísticos\n",
    "\n",
    "Para los ejercicios de Pair hemos utilizado el siguiente dataset: [Spotify Tracks Dataset](https://www.kaggle.com/datasets/maharshipandya/-spotify-tracks-dataset)"
   ]
  },
  {
   "cell_type": "code",
   "execution_count": 22,
   "metadata": {},
   "outputs": [],
   "source": [
    "import pandas as pd\n",
    "import numpy as np\n",
    "from scipy.stats import skew\n",
    "from scipy.stats import kurtosistest\n",
    "from scipy.stats import kstest\n",
    "from scipy import stats\n",
    "\n",
    "\n",
    "import matplotlib.pyplot as plt\n",
    "import seaborn as sns\n",
    "\n",
    "plt.rcParams[\"figure.figsize\"] = (10,8)\n",
    "\n",
    "import warnings\n",
    "warnings.filterwarnings('ignore')\n",
    "\n",
    "pd.options.display.max_columns = None"
   ]
  },
  {
   "cell_type": "code",
   "execution_count": 23,
   "metadata": {},
   "outputs": [
    {
     "data": {
      "text/html": [
       "<div>\n",
       "<style scoped>\n",
       "    .dataframe tbody tr th:only-of-type {\n",
       "        vertical-align: middle;\n",
       "    }\n",
       "\n",
       "    .dataframe tbody tr th {\n",
       "        vertical-align: top;\n",
       "    }\n",
       "\n",
       "    .dataframe thead th {\n",
       "        text-align: right;\n",
       "    }\n",
       "</style>\n",
       "<table border=\"1\" class=\"dataframe\">\n",
       "  <thead>\n",
       "    <tr style=\"text-align: right;\">\n",
       "      <th></th>\n",
       "      <th>track_id</th>\n",
       "      <th>artists</th>\n",
       "      <th>album_name</th>\n",
       "      <th>track_name</th>\n",
       "      <th>popularity</th>\n",
       "      <th>duration_ms</th>\n",
       "      <th>explicit</th>\n",
       "      <th>danceability</th>\n",
       "      <th>energy</th>\n",
       "      <th>key</th>\n",
       "      <th>loudness</th>\n",
       "      <th>mode</th>\n",
       "      <th>speechiness</th>\n",
       "      <th>acousticness</th>\n",
       "      <th>instrumentalness</th>\n",
       "      <th>liveness</th>\n",
       "      <th>valence</th>\n",
       "      <th>tempo</th>\n",
       "      <th>time_signature</th>\n",
       "      <th>track_genre</th>\n",
       "    </tr>\n",
       "  </thead>\n",
       "  <tbody>\n",
       "    <tr>\n",
       "      <th>0</th>\n",
       "      <td>0amhzLwuGALhb81XyyuUlN</td>\n",
       "      <td>Chronic Law</td>\n",
       "      <td>Stay Real</td>\n",
       "      <td>Stay Real</td>\n",
       "      <td>18</td>\n",
       "      <td>196571</td>\n",
       "      <td>False</td>\n",
       "      <td>0.544</td>\n",
       "      <td>0.689</td>\n",
       "      <td>C</td>\n",
       "      <td>-7.764</td>\n",
       "      <td>minor</td>\n",
       "      <td>0.246</td>\n",
       "      <td>0.147</td>\n",
       "      <td>0.00000</td>\n",
       "      <td>0.1510</td>\n",
       "      <td>0.422</td>\n",
       "      <td>87.328</td>\n",
       "      <td>compas_4</td>\n",
       "      <td>j-dance</td>\n",
       "    </tr>\n",
       "    <tr>\n",
       "      <th>1</th>\n",
       "      <td>3YQ5NYk2legzeloibRyXn1</td>\n",
       "      <td>Marksman</td>\n",
       "      <td>Verified Choppa 2</td>\n",
       "      <td>Verified Choppa 2</td>\n",
       "      <td>58</td>\n",
       "      <td>139093</td>\n",
       "      <td>False</td>\n",
       "      <td>0.725</td>\n",
       "      <td>0.604</td>\n",
       "      <td>G</td>\n",
       "      <td>-5.874</td>\n",
       "      <td>major</td>\n",
       "      <td>0.408</td>\n",
       "      <td>0.117</td>\n",
       "      <td>0.00000</td>\n",
       "      <td>0.0855</td>\n",
       "      <td>0.449</td>\n",
       "      <td>199.995</td>\n",
       "      <td>compas_4</td>\n",
       "      <td>dancehall</td>\n",
       "    </tr>\n",
       "    <tr>\n",
       "      <th>2</th>\n",
       "      <td>36NwMJRaCy7x77xYGJiG2M</td>\n",
       "      <td>Allman Brothers Band</td>\n",
       "      <td>Fishing Music</td>\n",
       "      <td>Midnight Rider</td>\n",
       "      <td>1</td>\n",
       "      <td>177960</td>\n",
       "      <td>False</td>\n",
       "      <td>0.346</td>\n",
       "      <td>0.589</td>\n",
       "      <td>G</td>\n",
       "      <td>-9.922</td>\n",
       "      <td>major</td>\n",
       "      <td>0.036</td>\n",
       "      <td>0.210</td>\n",
       "      <td>0.00703</td>\n",
       "      <td>0.1500</td>\n",
       "      <td>0.638</td>\n",
       "      <td>189.486</td>\n",
       "      <td>compas_4</td>\n",
       "      <td>hard-rock</td>\n",
       "    </tr>\n",
       "  </tbody>\n",
       "</table>\n",
       "</div>"
      ],
      "text/plain": [
       "                 track_id               artists         album_name  \\\n",
       "0  0amhzLwuGALhb81XyyuUlN           Chronic Law          Stay Real   \n",
       "1  3YQ5NYk2legzeloibRyXn1              Marksman  Verified Choppa 2   \n",
       "2  36NwMJRaCy7x77xYGJiG2M  Allman Brothers Band      Fishing Music   \n",
       "\n",
       "          track_name  popularity  duration_ms  explicit  danceability  energy  \\\n",
       "0          Stay Real          18       196571     False         0.544   0.689   \n",
       "1  Verified Choppa 2          58       139093     False         0.725   0.604   \n",
       "2     Midnight Rider           1       177960     False         0.346   0.589   \n",
       "\n",
       "  key  loudness   mode  speechiness  acousticness  instrumentalness  liveness  \\\n",
       "0   C    -7.764  minor        0.246         0.147           0.00000    0.1510   \n",
       "1   G    -5.874  major        0.408         0.117           0.00000    0.0855   \n",
       "2   G    -9.922  major        0.036         0.210           0.00703    0.1500   \n",
       "\n",
       "   valence    tempo time_signature track_genre  \n",
       "0    0.422   87.328       compas_4     j-dance  \n",
       "1    0.449  199.995       compas_4   dancehall  \n",
       "2    0.638  189.486       compas_4   hard-rock  "
      ]
     },
     "execution_count": 23,
     "metadata": {},
     "output_type": "execute_result"
    }
   ],
   "source": [
    "df = pd.read_pickle('data/spotify_songs_limpio.pkl')\n",
    "df.head(3)"
   ]
  },
  {
   "cell_type": "markdown",
   "metadata": {},
   "source": [
    "1. ¿Qué diferencia existe el error de tipo I y el error de tipo II?\n",
    "- Error Tipo I: Es rechazar la hipótesis nula (H0) cuando es verdadera\n",
    "- Error Tipo II: Es aceptar la hipótesis nula (H0) cuando es falsa"
   ]
  },
  {
   "cell_type": "markdown",
   "metadata": {},
   "source": [
    "2. ¿Qué es la asimetría?\n",
    "- La falta de simetría en una distribución (muestra sesgada hacia la izquierda o hacia la derecha)."
   ]
  },
  {
   "cell_type": "markdown",
   "metadata": {},
   "source": [
    "3. ¿Es vuestra variable respuesta asimétrica?"
   ]
  },
  {
   "cell_type": "code",
   "execution_count": 24,
   "metadata": {},
   "outputs": [
    {
     "data": {
      "text/plain": [
       "0.03935085342108236"
      ]
     },
     "execution_count": 24,
     "metadata": {},
     "output_type": "execute_result"
    }
   ],
   "source": [
    "df[\"popularity\"].skew()"
   ]
  },
  {
   "cell_type": "markdown",
   "metadata": {},
   "source": [
    "- Según el skew, la muestra está un poco sesgada hacia la derecha. Por comprobarlo de manera visual:"
   ]
  },
  {
   "cell_type": "code",
   "execution_count": 25,
   "metadata": {},
   "outputs": [
    {
     "data": {
      "image/png": "[encoded data removed]",
      "text/plain": [
       "<Figure size 500x500 with 1 Axes>"
      ]
     },
     "metadata": {},
     "output_type": "display_data"
    }
   ],
   "source": [
    "sns.displot(df[\"popularity\"], kde=True, color=\"cadetblue\");"
   ]
  },
  {
   "cell_type": "markdown",
   "metadata": {},
   "source": [
    "4. ¿Qué tipo de curtosis presenta vuestra variable respuesta?"
   ]
  },
  {
   "cell_type": "code",
   "execution_count": 26,
   "metadata": {},
   "outputs": [
    {
     "data": {
      "text/plain": [
       "KurtosistestResult(statistic=-42.40280670445713, pvalue=0.0)"
      ]
     },
     "execution_count": 26,
     "metadata": {},
     "output_type": "execute_result"
    }
   ],
   "source": [
    "kurtosistest(df[\"popularity\"])"
   ]
  },
  {
   "cell_type": "markdown",
   "metadata": {},
   "source": [
    "- La pvalue es < 0, por lo que la gráfica es platicúrtica."
   ]
  },
  {
   "cell_type": "markdown",
   "metadata": {},
   "source": [
    "5. ¿Es vuestra variable respuesta normal? Demostrarlo visual y analíticamente."
   ]
  },
  {
   "cell_type": "code",
   "execution_count": 27,
   "metadata": {},
   "outputs": [
    {
     "data": {
      "text/plain": [
       "(12000, 20)"
      ]
     },
     "execution_count": 27,
     "metadata": {},
     "output_type": "execute_result"
    }
   ],
   "source": [
    "# Vamos a ver primero la muestra que tenemos para ver si usar Shapiro o Kolmogorov-Smirnov:\n",
    "\n",
    "df.shape"
   ]
  },
  {
   "cell_type": "code",
   "execution_count": 28,
   "metadata": {},
   "outputs": [
    {
     "data": {
      "image/png": "[encoded data removed]",
      "text/plain": [
       "<Figure size 500x500 with 1 Axes>"
      ]
     },
     "metadata": {},
     "output_type": "display_data"
    }
   ],
   "source": [
    "# Visualmente:\n",
    "sns.displot(df[\"popularity\"], kde=True, color=\"cadetblue\");"
   ]
  },
  {
   "cell_type": "code",
   "execution_count": 29,
   "metadata": {},
   "outputs": [
    {
     "data": {
      "text/plain": [
       "KstestResult(statistic=0.8299001019683698, pvalue=0.0, statistic_location=3, statistic_sign=-1)"
      ]
     },
     "execution_count": 29,
     "metadata": {},
     "output_type": "execute_result"
    }
   ],
   "source": [
    "# Vamos a usar KS porque nuestra muestra > 50:\n",
    "kstest(df[\"popularity\"], 'norm')"
   ]
  },
  {
   "cell_type": "markdown",
   "metadata": {},
   "source": [
    "- Nuestra variable inicial es no normal (pvalue < 0.05) por lo que no podremos utilizarla como variable respuesta ahora mismo en una regresión lineal."
   ]
  },
  {
   "cell_type": "code",
   "execution_count": 30,
   "metadata": {},
   "outputs": [
    {
     "name": "stdout",
     "output_type": "stream",
     "text": [
      "Son normales las columnas:\n",
      " [] (pvalues > 0.05)\n",
      "Son no normales las columnas:\n",
      " ['popularity (pvalue = 0.0)', 'duration_ms (pvalue = 0.0)', 'danceability (pvalue = 0.0)', 'energy (pvalue = 0.0)', 'loudness (pvalue = 0.0)', 'speechiness (pvalue = 0.0)', 'acousticness (pvalue = 0.0)', 'instrumentalness (pvalue = 0.0)', 'liveness (pvalue = 0.0)', 'valence (pvalue = 0.0)', 'tempo (pvalue = 0.0)'] (pvalues < 0.05)\n"
     ]
    }
   ],
   "source": [
    "# Vamos a comprobar cuáles de nuestras variables son normales:\n",
    "\n",
    "numericas = df.select_dtypes(np.number)\n",
    "columnas_numeric = numericas.columns\n",
    "\n",
    "normales = []\n",
    "no_normales = []\n",
    "\n",
    "for colum in columnas_numeric:\n",
    "    pvalue = kstest(df[colum], 'norm')[1]\n",
    "    if pvalue > 0.05:\n",
    "        normales.append(f'{colum} (pvalue = {pvalue})')\n",
    "    else:\n",
    "        no_normales.append(f'{colum} (pvalue = {pvalue})')\n",
    "\n",
    "print(f'Son normales las columnas:\\n {normales} (pvalues > 0.05)')\n",
    "print(f'Son no normales las columnas:\\n {no_normales} (pvalues < 0.05)')"
   ]
  },
  {
   "cell_type": "markdown",
   "metadata": {},
   "source": [
    "No tenemos ninguna variable numérica de tipo normal."
   ]
  }
 ],
 "metadata": {
  "kernelspec": {
   "display_name": "adalabenv",
   "language": "python",
   "name": "python3"
  },
  "language_info": {
   "codemirror_mode": {
    "name": "ipython",
    "version": 3
   },
   "file_extension": ".py",
   "mimetype": "text/x-python",
   "name": "python",
   "nbconvert_exporter": "python",
   "pygments_lexer": "ipython3",
   "version": "3.10.11"
  },
  "orig_nbformat": 4
 },
 "nbformat": 4,
 "nbformat_minor": 2
}
