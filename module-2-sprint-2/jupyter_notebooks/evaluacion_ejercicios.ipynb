{
 "cells": [
  {
   "cell_type": "markdown",
   "metadata": {},
   "source": [
    "## MÓDULO 2. EVALUACIÓN 2\n",
    "\n",
    "**OBJETIVO**: identificar todas las universidades ubicadas en tres países específicos: Estados Unidos, Canadá y Argentina."
   ]
  },
  {
   "cell_type": "code",
   "execution_count": 21,
   "metadata": {},
   "outputs": [],
   "source": [
    "import requests\n",
    "import pandas as pd\n",
    "import numpy as np\n",
    "import mysql.connector\n",
    "from geopy.geocoders import Nominatim\n",
    "\n",
    "\n",
    "import warnings\n",
    "warnings.filterwarnings('ignore')"
   ]
  },
  {
   "cell_type": "markdown",
   "metadata": {},
   "source": [
    "1. Utilizando la API extraed toda la información que podáis de ella. La url para hacer las llamadas es:"
   ]
  },
  {
   "cell_type": "code",
   "execution_count": 22,
   "metadata": {},
   "outputs": [],
   "source": [
    "def llamar_api():\n",
    "    \n",
    "    \"\"\"\n",
    "    Realiza llamadas a una API para obtener información de universidades en diferentes países.\n",
    "    \n",
    "    Returns:\n",
    "        pd.DataFrame: DataFrame con la información de universidades.\n",
    "    \"\"\"\n",
    "    \n",
    "    df_universidades = pd.DataFrame() #creamos un dataframe vacío en el que ir sumando cada país\n",
    "    \n",
    "    paises = [\"United States\", \"Canada\", \"Argentina\"]\n",
    "    \n",
    "    for pais in paises:\n",
    "        response = requests.get(url= f\"http://universities.hipolabs.com/search?country={pais}\")\n",
    "        print(f\"Resultado de la conexión de {pais}: {response.status_code} {response.reason}\")\n",
    "        df = pd.json_normalize(response.json())\n",
    "        df_universidades = pd.concat([df_universidades, df], axis = 0)\n",
    "    return df_universidades\n",
    "        "
   ]
  },
  {
   "cell_type": "code",
   "execution_count": 23,
   "metadata": {},
   "outputs": [
    {
     "name": "stdout",
     "output_type": "stream",
     "text": [
      "Resultado de la conexión de United States: 200 OK\n",
      "Resultado de la conexión de Canada: 200 OK\n",
      "Resultado de la conexión de Argentina: 200 OK\n"
     ]
    },
    {
     "data": {
      "text/html": [
       "<div>\n",
       "<style scoped>\n",
       "    .dataframe tbody tr th:only-of-type {\n",
       "        vertical-align: middle;\n",
       "    }\n",
       "\n",
       "    .dataframe tbody tr th {\n",
       "        vertical-align: top;\n",
       "    }\n",
       "\n",
       "    .dataframe thead th {\n",
       "        text-align: right;\n",
       "    }\n",
       "</style>\n",
       "<table border=\"1\" class=\"dataframe\">\n",
       "  <thead>\n",
       "    <tr style=\"text-align: right;\">\n",
       "      <th></th>\n",
       "      <th>domains</th>\n",
       "      <th>country</th>\n",
       "      <th>name</th>\n",
       "      <th>web_pages</th>\n",
       "      <th>state-province</th>\n",
       "      <th>alpha_two_code</th>\n",
       "    </tr>\n",
       "  </thead>\n",
       "  <tbody>\n",
       "    <tr>\n",
       "      <th>0</th>\n",
       "      <td>[marywood.edu]</td>\n",
       "      <td>United States</td>\n",
       "      <td>Marywood University</td>\n",
       "      <td>[http://www.marywood.edu]</td>\n",
       "      <td>None</td>\n",
       "      <td>US</td>\n",
       "    </tr>\n",
       "    <tr>\n",
       "      <th>1</th>\n",
       "      <td>[lindenwood.edu]</td>\n",
       "      <td>United States</td>\n",
       "      <td>Lindenwood University</td>\n",
       "      <td>[http://www.lindenwood.edu/]</td>\n",
       "      <td>None</td>\n",
       "      <td>US</td>\n",
       "    </tr>\n",
       "    <tr>\n",
       "      <th>2</th>\n",
       "      <td>[sullivan.edu]</td>\n",
       "      <td>United States</td>\n",
       "      <td>Sullivan University</td>\n",
       "      <td>[https://sullivan.edu/]</td>\n",
       "      <td>None</td>\n",
       "      <td>US</td>\n",
       "    </tr>\n",
       "    <tr>\n",
       "      <th>3</th>\n",
       "      <td>[fscj.edu]</td>\n",
       "      <td>United States</td>\n",
       "      <td>Florida State College at Jacksonville</td>\n",
       "      <td>[https://www.fscj.edu/]</td>\n",
       "      <td>None</td>\n",
       "      <td>US</td>\n",
       "    </tr>\n",
       "    <tr>\n",
       "      <th>4</th>\n",
       "      <td>[xavier.edu]</td>\n",
       "      <td>United States</td>\n",
       "      <td>Xavier University</td>\n",
       "      <td>[https://www.xavier.edu/]</td>\n",
       "      <td>None</td>\n",
       "      <td>US</td>\n",
       "    </tr>\n",
       "  </tbody>\n",
       "</table>\n",
       "</div>"
      ],
      "text/plain": [
       "            domains        country                                   name  \\\n",
       "0    [marywood.edu]  United States                    Marywood University   \n",
       "1  [lindenwood.edu]  United States                  Lindenwood University   \n",
       "2    [sullivan.edu]  United States                    Sullivan University   \n",
       "3        [fscj.edu]  United States  Florida State College at Jacksonville   \n",
       "4      [xavier.edu]  United States                      Xavier University   \n",
       "\n",
       "                      web_pages state-province alpha_two_code  \n",
       "0     [http://www.marywood.edu]           None             US  \n",
       "1  [http://www.lindenwood.edu/]           None             US  \n",
       "2       [https://sullivan.edu/]           None             US  \n",
       "3       [https://www.fscj.edu/]           None             US  \n",
       "4     [https://www.xavier.edu/]           None             US  "
      ]
     },
     "execution_count": 23,
     "metadata": {},
     "output_type": "execute_result"
    }
   ],
   "source": [
    "df_universidades = llamar_api()\n",
    "\n",
    "df_universidades.head(5)"
   ]
  },
  {
   "cell_type": "code",
   "execution_count": 24,
   "metadata": {},
   "outputs": [
    {
     "data": {
      "text/plain": [
       "2517"
      ]
     },
     "execution_count": 24,
     "metadata": {},
     "output_type": "execute_result"
    }
   ],
   "source": [
    "df_universidades.duplicated(subset= \"name\").sum()"
   ]
  },
  {
   "cell_type": "markdown",
   "metadata": {},
   "source": [
    "___\n",
    "2. Una vez tengáis todos los datos de la API, deberéis realizar una serie de procesos de limpieza, estos incluyen:\n",
    "    - Cambiad los nombres de las columnas para homogeneizarlas, tenemos columnas que tienen - y otras _. Unifícalo para que todo vaya con _.\n",
    "    - La columna de domains nos da una información similar a la de web_pages. Eliminad la columna domains."
   ]
  },
  {
   "cell_type": "markdown",
   "metadata": {},
   "source": [
    "3. Si exploramos la columna de web_pages, nos daremos cuenta que hay universidades, como por ejemplo la Universidad de \"Cégep de Saint-Jérôme\" de Canadá que en su columna de web_pages tiene más de un valor dentro de la lista. Esto es poco práctico y puede llegar a no tener sentido. el objetivo de este ejericio es que usando el método explode de pandas separéis cada elemento de la lista en una fila nueva. Aquí tenéis la documentación de este método."
   ]
  },
  {
   "cell_type": "code",
   "execution_count": 25,
   "metadata": {},
   "outputs": [],
   "source": [
    "# Creamos una función con todo el proceso de limpieza:\n",
    "\n",
    "def limpiar_columnas(dataframe= df_universidades):\n",
    "    \n",
    "    \"\"\"\n",
    "    Limpia y transforma las columnas de un DataFrame de universidades.\n",
    "\n",
    "    Args:\n",
    "        dataframe (pd.DataFrame, optional): DataFrame con información de universidades. Por defecto es df_universidades.\n",
    "\n",
    "    Returns:\n",
    "        pd.DataFrame: DataFrame con las columnas limpias y transformadas.\n",
    "    \"\"\"\n",
    "    \n",
    "    dataframe.columns = [column.replace(\"-\", \"_\") for column in dataframe.columns]\n",
    "    dataframe.drop(\"domains\", axis= 1, inplace= True)\n",
    "    dataframe = dataframe.explode(\"web_pages\")\n",
    "    return dataframe"
   ]
  },
  {
   "cell_type": "code",
   "execution_count": 26,
   "metadata": {},
   "outputs": [
    {
     "data": {
      "text/html": [
       "<div>\n",
       "<style scoped>\n",
       "    .dataframe tbody tr th:only-of-type {\n",
       "        vertical-align: middle;\n",
       "    }\n",
       "\n",
       "    .dataframe tbody tr th {\n",
       "        vertical-align: top;\n",
       "    }\n",
       "\n",
       "    .dataframe thead th {\n",
       "        text-align: right;\n",
       "    }\n",
       "</style>\n",
       "<table border=\"1\" class=\"dataframe\">\n",
       "  <thead>\n",
       "    <tr style=\"text-align: right;\">\n",
       "      <th></th>\n",
       "      <th>country</th>\n",
       "      <th>name</th>\n",
       "      <th>web_pages</th>\n",
       "      <th>state_province</th>\n",
       "      <th>alpha_two_code</th>\n",
       "    </tr>\n",
       "  </thead>\n",
       "  <tbody>\n",
       "    <tr>\n",
       "      <th>0</th>\n",
       "      <td>United States</td>\n",
       "      <td>Marywood University</td>\n",
       "      <td>http://www.marywood.edu</td>\n",
       "      <td>None</td>\n",
       "      <td>US</td>\n",
       "    </tr>\n",
       "    <tr>\n",
       "      <th>1</th>\n",
       "      <td>United States</td>\n",
       "      <td>Lindenwood University</td>\n",
       "      <td>http://www.lindenwood.edu/</td>\n",
       "      <td>None</td>\n",
       "      <td>US</td>\n",
       "    </tr>\n",
       "  </tbody>\n",
       "</table>\n",
       "</div>"
      ],
      "text/plain": [
       "         country                   name                   web_pages  \\\n",
       "0  United States    Marywood University     http://www.marywood.edu   \n",
       "1  United States  Lindenwood University  http://www.lindenwood.edu/   \n",
       "\n",
       "  state_province alpha_two_code  \n",
       "0           None             US  \n",
       "1           None             US  "
      ]
     },
     "execution_count": 26,
     "metadata": {},
     "output_type": "execute_result"
    }
   ],
   "source": [
    "df_universidades = limpiar_columnas()\n",
    "df_universidades.head(2)"
   ]
  },
  {
   "cell_type": "markdown",
   "metadata": {},
   "source": [
    "___\n",
    "4. Una vez hayáis realizado el explode, chequead si tenéis duplicados basándonos unicamente en el nombre de la universidad, en caso de que si, eliminandlos."
   ]
  },
  {
   "cell_type": "code",
   "execution_count": 27,
   "metadata": {},
   "outputs": [
    {
     "data": {
      "text/plain": [
       "2543"
      ]
     },
     "execution_count": 27,
     "metadata": {},
     "output_type": "execute_result"
    }
   ],
   "source": [
    "df_universidades.duplicated(subset= \"name\").sum()"
   ]
  },
  {
   "cell_type": "code",
   "execution_count": 28,
   "metadata": {},
   "outputs": [
    {
     "data": {
      "text/plain": [
       "(5034, 5)"
      ]
     },
     "execution_count": 28,
     "metadata": {},
     "output_type": "execute_result"
    }
   ],
   "source": [
    "df_universidades.shape"
   ]
  },
  {
   "cell_type": "code",
   "execution_count": 29,
   "metadata": {},
   "outputs": [],
   "source": [
    "df_universidades.drop_duplicates(subset= \"name\", inplace= True)"
   ]
  },
  {
   "cell_type": "code",
   "execution_count": 30,
   "metadata": {},
   "outputs": [
    {
     "data": {
      "text/plain": [
       "(2491, 5)"
      ]
     },
     "execution_count": 30,
     "metadata": {},
     "output_type": "execute_result"
    }
   ],
   "source": [
    "df_universidades.shape"
   ]
  },
  {
   "cell_type": "markdown",
   "metadata": {},
   "source": [
    "Lo óptimo sería que este paso esté también dentro de la función de limpieza anterior, pero los siguientes pasos del ejercicios son también de limpieza. Al finalizar todos estos ejercicios, crearé una nueva función que aúne todos los pasos de limpieza (no lo hago ahora para que se mantengan en el ejercicio las comprobaciones realizadas)."
   ]
  },
  {
   "cell_type": "markdown",
   "metadata": {},
   "source": [
    "___\n",
    "5. Si exploramos la columna de state_province veremos que hay universidades cuyo valor para esta columna es None. Cread una función para reemplazar los None por nulos de numpy."
   ]
  },
  {
   "cell_type": "code",
   "execution_count": 31,
   "metadata": {},
   "outputs": [],
   "source": [
    "def cambiar_none(valor):\n",
    "    \n",
    "    \"\"\"\n",
    "    Convierte un valor igual a None en un valor NaN (Not a Number) de NumPy.\n",
    "\n",
    "    Args:\n",
    "        valor: El valor a ser evaluado y posiblemente reemplazado.\n",
    "\n",
    "    Returns:\n",
    "        valor: El valor reemplazado por NaN si era None, o el mismo valor si no era None.\n",
    "    \"\"\"\n",
    "    \n",
    "    if valor == None:\n",
    "        return np.nan\n",
    "    else:\n",
    "        return valor"
   ]
  },
  {
   "cell_type": "code",
   "execution_count": 32,
   "metadata": {},
   "outputs": [],
   "source": [
    "df_universidades[\"state_province\"] = df_universidades[\"state_province\"].apply(cambiar_none)"
   ]
  },
  {
   "cell_type": "code",
   "execution_count": 33,
   "metadata": {},
   "outputs": [],
   "source": [
    "# Otra manera más eficiente de hacerlo (visto en la evaluación):\n",
    "df_universidades[\"state_province\"] = df_universidades[\"state_province\"].apply(lambda valor: np.nan if valor == None else valor)"
   ]
  },
  {
   "cell_type": "code",
   "execution_count": 34,
   "metadata": {},
   "outputs": [
    {
     "data": {
      "text/html": [
       "<div>\n",
       "<style scoped>\n",
       "    .dataframe tbody tr th:only-of-type {\n",
       "        vertical-align: middle;\n",
       "    }\n",
       "\n",
       "    .dataframe tbody tr th {\n",
       "        vertical-align: top;\n",
       "    }\n",
       "\n",
       "    .dataframe thead th {\n",
       "        text-align: right;\n",
       "    }\n",
       "</style>\n",
       "<table border=\"1\" class=\"dataframe\">\n",
       "  <thead>\n",
       "    <tr style=\"text-align: right;\">\n",
       "      <th></th>\n",
       "      <th>country</th>\n",
       "      <th>name</th>\n",
       "      <th>web_pages</th>\n",
       "      <th>state_province</th>\n",
       "      <th>alpha_two_code</th>\n",
       "    </tr>\n",
       "  </thead>\n",
       "  <tbody>\n",
       "    <tr>\n",
       "      <th>1877</th>\n",
       "      <td>United States</td>\n",
       "      <td>Stanly Community College</td>\n",
       "      <td>http://www.stanly.edu</td>\n",
       "      <td>NaN</td>\n",
       "      <td>US</td>\n",
       "    </tr>\n",
       "    <tr>\n",
       "      <th>1537</th>\n",
       "      <td>United States</td>\n",
       "      <td>Iowa Central Community College</td>\n",
       "      <td>http://www.iowacentral.edu</td>\n",
       "      <td>NaN</td>\n",
       "      <td>US</td>\n",
       "    </tr>\n",
       "    <tr>\n",
       "      <th>65</th>\n",
       "      <td>United States</td>\n",
       "      <td>University of Mississippi Medical Center</td>\n",
       "      <td>http://www.umc.edu/</td>\n",
       "      <td>NaN</td>\n",
       "      <td>US</td>\n",
       "    </tr>\n",
       "    <tr>\n",
       "      <th>1756</th>\n",
       "      <td>United States</td>\n",
       "      <td>County College of Morris</td>\n",
       "      <td>https://www.ccm.edu/</td>\n",
       "      <td>NaN</td>\n",
       "      <td>US</td>\n",
       "    </tr>\n",
       "    <tr>\n",
       "      <th>395</th>\n",
       "      <td>United States</td>\n",
       "      <td>Fayetteville State University</td>\n",
       "      <td>http://www.uncfsu.edu/</td>\n",
       "      <td>NaN</td>\n",
       "      <td>US</td>\n",
       "    </tr>\n",
       "    <tr>\n",
       "      <th>823</th>\n",
       "      <td>United States</td>\n",
       "      <td>Slippery Rock University of Pennsylvania</td>\n",
       "      <td>http://www.sru.edu/</td>\n",
       "      <td>Pennsylvania</td>\n",
       "      <td>US</td>\n",
       "    </tr>\n",
       "    <tr>\n",
       "      <th>38</th>\n",
       "      <td>Argentina</td>\n",
       "      <td>Universidad Empresarial Siglio 21</td>\n",
       "      <td>http://www.uesiglo21.edu.ar/</td>\n",
       "      <td>Córdoba</td>\n",
       "      <td>AR</td>\n",
       "    </tr>\n",
       "    <tr>\n",
       "      <th>235</th>\n",
       "      <td>United States</td>\n",
       "      <td>California State University, Los Angeles</td>\n",
       "      <td>http://www.calstatela.edu/</td>\n",
       "      <td>NaN</td>\n",
       "      <td>US</td>\n",
       "    </tr>\n",
       "    <tr>\n",
       "      <th>2042</th>\n",
       "      <td>United States</td>\n",
       "      <td>Southwest Texas Junior College</td>\n",
       "      <td>http://www.swtjc.net</td>\n",
       "      <td>NaN</td>\n",
       "      <td>US</td>\n",
       "    </tr>\n",
       "    <tr>\n",
       "      <th>1960</th>\n",
       "      <td>United States</td>\n",
       "      <td>University of Pittsburgh-​Titusville</td>\n",
       "      <td>http://www.upt.pitt.edu</td>\n",
       "      <td>Pennsylvania</td>\n",
       "      <td>US</td>\n",
       "    </tr>\n",
       "  </tbody>\n",
       "</table>\n",
       "</div>"
      ],
      "text/plain": [
       "            country                                      name  \\\n",
       "1877  United States                  Stanly Community College   \n",
       "1537  United States            Iowa Central Community College   \n",
       "65    United States  University of Mississippi Medical Center   \n",
       "1756  United States                  County College of Morris   \n",
       "395   United States             Fayetteville State University   \n",
       "823   United States  Slippery Rock University of Pennsylvania   \n",
       "38        Argentina         Universidad Empresarial Siglio 21   \n",
       "235   United States  California State University, Los Angeles   \n",
       "2042  United States            Southwest Texas Junior College   \n",
       "1960  United States      University of Pittsburgh-​Titusville   \n",
       "\n",
       "                         web_pages state_province alpha_two_code  \n",
       "1877         http://www.stanly.edu            NaN             US  \n",
       "1537    http://www.iowacentral.edu            NaN             US  \n",
       "65             http://www.umc.edu/            NaN             US  \n",
       "1756          https://www.ccm.edu/            NaN             US  \n",
       "395         http://www.uncfsu.edu/            NaN             US  \n",
       "823            http://www.sru.edu/   Pennsylvania             US  \n",
       "38    http://www.uesiglo21.edu.ar/        Córdoba             AR  \n",
       "235     http://www.calstatela.edu/            NaN             US  \n",
       "2042          http://www.swtjc.net            NaN             US  \n",
       "1960       http://www.upt.pitt.edu   Pennsylvania             US  "
      ]
     },
     "execution_count": 34,
     "metadata": {},
     "output_type": "execute_result"
    }
   ],
   "source": [
    "df_universidades.sample(10)"
   ]
  },
  {
   "cell_type": "markdown",
   "metadata": {},
   "source": [
    "No está en el ejercicio, pero para poder insertar los datos en SQL, vamos al limpiar los nombres de las universidades que tienen comillas."
   ]
  },
  {
   "cell_type": "code",
   "execution_count": 35,
   "metadata": {},
   "outputs": [
    {
     "data": {
      "text/html": [
       "<div>\n",
       "<style scoped>\n",
       "    .dataframe tbody tr th:only-of-type {\n",
       "        vertical-align: middle;\n",
       "    }\n",
       "\n",
       "    .dataframe tbody tr th {\n",
       "        vertical-align: top;\n",
       "    }\n",
       "\n",
       "    .dataframe thead th {\n",
       "        text-align: right;\n",
       "    }\n",
       "</style>\n",
       "<table border=\"1\" class=\"dataframe\">\n",
       "  <thead>\n",
       "    <tr style=\"text-align: right;\">\n",
       "      <th></th>\n",
       "      <th>country</th>\n",
       "      <th>name</th>\n",
       "      <th>web_pages</th>\n",
       "      <th>state_province</th>\n",
       "      <th>alpha_two_code</th>\n",
       "    </tr>\n",
       "  </thead>\n",
       "  <tbody>\n",
       "    <tr>\n",
       "      <th>10</th>\n",
       "      <td>Argentina</td>\n",
       "      <td>Universidad Argentina \"John F. Kennedy\"</td>\n",
       "      <td>http://www.kennedy.edu.ar/</td>\n",
       "      <td>Buenos Aires</td>\n",
       "      <td>AR</td>\n",
       "    </tr>\n",
       "    <tr>\n",
       "      <th>41</th>\n",
       "      <td>Argentina</td>\n",
       "      <td>Universidad \"Juan Agustín Maza\"</td>\n",
       "      <td>http://www.umaza.edu.ar/</td>\n",
       "      <td>NaN</td>\n",
       "      <td>AR</td>\n",
       "    </tr>\n",
       "    <tr>\n",
       "      <th>69</th>\n",
       "      <td>Argentina</td>\n",
       "      <td>Universidad Nacional de la Patagonia \"San Juan...</td>\n",
       "      <td>http://www.unp.edu.ar/</td>\n",
       "      <td>NaN</td>\n",
       "      <td>AR</td>\n",
       "    </tr>\n",
       "    <tr>\n",
       "      <th>79</th>\n",
       "      <td>Argentina</td>\n",
       "      <td>Universidad del Norte \"Santo Tomás de Aquino\"</td>\n",
       "      <td>http://www.unsta.edu.ar/</td>\n",
       "      <td>NaN</td>\n",
       "      <td>AR</td>\n",
       "    </tr>\n",
       "  </tbody>\n",
       "</table>\n",
       "</div>"
      ],
      "text/plain": [
       "      country                                               name  \\\n",
       "10  Argentina            Universidad Argentina \"John F. Kennedy\"   \n",
       "41  Argentina                    Universidad \"Juan Agustín Maza\"   \n",
       "69  Argentina  Universidad Nacional de la Patagonia \"San Juan...   \n",
       "79  Argentina      Universidad del Norte \"Santo Tomás de Aquino\"   \n",
       "\n",
       "                     web_pages state_province alpha_two_code  \n",
       "10  http://www.kennedy.edu.ar/   Buenos Aires             AR  \n",
       "41    http://www.umaza.edu.ar/            NaN             AR  \n",
       "69      http://www.unp.edu.ar/            NaN             AR  \n",
       "79    http://www.unsta.edu.ar/            NaN             AR  "
      ]
     },
     "execution_count": 35,
     "metadata": {},
     "output_type": "execute_result"
    }
   ],
   "source": [
    "df_universidades[df_universidades[\"name\"].str.contains('\"')]"
   ]
  },
  {
   "cell_type": "code",
   "execution_count": 36,
   "metadata": {},
   "outputs": [],
   "source": [
    "df_universidades[\"name\"] = df_universidades[\"name\"].str.replace('\"', '')"
   ]
  },
  {
   "cell_type": "code",
   "execution_count": 37,
   "metadata": {},
   "outputs": [
    {
     "data": {
      "text/plain": [
       "0"
      ]
     },
     "execution_count": 37,
     "metadata": {},
     "output_type": "execute_result"
    }
   ],
   "source": [
    "df_universidades[\"name\"].str.contains('\"').sum()"
   ]
  },
  {
   "cell_type": "markdown",
   "metadata": {},
   "source": [
    "___\n",
    "6. Después del último cambio, os habréis dado cuenta que tenemos muchos valores nulos dentro de la columna de state_province, por lo que nuestro jefe nos pide que reemplacemos esos nulos por \"Unknow\". No nos piden ningún método especifico, asi que podremos usar el método que queramos."
   ]
  },
  {
   "cell_type": "code",
   "execution_count": 38,
   "metadata": {},
   "outputs": [
    {
     "data": {
      "text/plain": [
       "2204"
      ]
     },
     "execution_count": 38,
     "metadata": {},
     "output_type": "execute_result"
    }
   ],
   "source": [
    "df_universidades[\"state_province\"].isnull().sum()"
   ]
  },
  {
   "cell_type": "code",
   "execution_count": 39,
   "metadata": {},
   "outputs": [],
   "source": [
    "df_universidades[\"state_province\"].fillna(\"unknown\", inplace= True)"
   ]
  },
  {
   "cell_type": "code",
   "execution_count": 40,
   "metadata": {},
   "outputs": [
    {
     "data": {
      "text/plain": [
       "0"
      ]
     },
     "execution_count": 40,
     "metadata": {},
     "output_type": "execute_result"
    }
   ],
   "source": [
    "df_universidades[\"state_province\"].isnull().sum()"
   ]
  },
  {
   "cell_type": "markdown",
   "metadata": {},
   "source": [
    "___\n",
    "7. Ahora nuestros jefes nos piden que saquemos las coordenadas de las provincias donde están ubicadas las universidades. Para eso nos piden que usemos la librería de geopy que aprendimos el día del repaso, aquí la documentación. Para desarrollar este ejercicio deberéis:\n",
    "- Sacar los valores únicos de la columna state_province."
   ]
  },
  {
   "cell_type": "code",
   "execution_count": 41,
   "metadata": {},
   "outputs": [
    {
     "data": {
      "text/plain": [
       "state_province\n",
       "unknown                            2204\n",
       "Ontario                              44\n",
       "British Columbia                     33\n",
       "Pennsylvania                         31\n",
       "Quebec                               24\n",
       "Buenos Aires                         20\n",
       "Ciudad Autónoma de Buenos Aires      19\n",
       "Alberta                              12\n",
       "NY                                    8\n",
       "New Brunswick                         7\n",
       "Nova Scotia                           7\n",
       "Manitoba                              6\n",
       "California                            5\n",
       "Córdoba                               4\n",
       "New York, NY                          4\n",
       "Saskatchewan                          4\n",
       "Texas                                 4\n",
       "Entre Ríos                            3\n",
       "Santa Fé                              3\n",
       "Mendoza                               3\n",
       "North Carolina                        2\n",
       "TX                                    2\n",
       "Ohio                                  2\n",
       "GA                                    2\n",
       "CA                                    2\n",
       "Santiago Del Estero                   2\n",
       "Salta                                 2\n",
       "Washington                            2\n",
       "Misiones                              1\n",
       "Catamarca                             1\n",
       "Yukon                                 1\n",
       "Formosa                               1\n",
       "Jujuy                                 1\n",
       "La Rioja                              1\n",
       "La Pampa                              1\n",
       "San Juan                              1\n",
       "San Luis                              1\n",
       "Prince Edward Island                  1\n",
       "Maine                                 1\n",
       "Newfoundland and Labrador             1\n",
       "New York                              1\n",
       "Utah                                  1\n",
       "NV                                    1\n",
       "Iowa                                  1\n",
       "VA                                    1\n",
       "Indiana                               1\n",
       "Colorado                              1\n",
       "IN                                    1\n",
       "Illinois                              1\n",
       "Michigan                              1\n",
       "New Hampshire                         1\n",
       "South Carolina                        1\n",
       "Virginia                              1\n",
       "Missouri                              1\n",
       "ND                                    1\n",
       "MI                                    1\n",
       "Florida                               1\n",
       "Tucumán                               1\n",
       "Name: count, dtype: int64"
      ]
     },
     "execution_count": 41,
     "metadata": {},
     "output_type": "execute_result"
    }
   ],
   "source": [
    "df_universidades[\"state_province\"].value_counts()"
   ]
  },
  {
   "cell_type": "markdown",
   "metadata": {},
   "source": [
    "- Algunos de los valores que tenemos están con siglas, y deberéis reemplazarlos por lo siguiente:\n",
    "    - NV: reemplazalo por Nevada\n",
    "    - TX: reemplazalo por Texas\n",
    "    - IN: reemplazalo por Indianapolis\n",
    "    - CA: reemplazalo por California\n",
    "    - VA: reemplazalo por Virginia\n",
    "    - NY: reemplazalo por New York\n",
    "    - MI: reemplazalo por Michigan\n",
    "    - GA: reemplazalo por Georgia\n",
    "    - ND: reemplazalo por North Dakota"
   ]
  },
  {
   "cell_type": "markdown",
   "metadata": {},
   "source": [
    "- Otros valores que tenemos más formateados son y que deberemos reemplazar:\n",
    "    - New York, NY. Deberéis reemplazarlo por \"New York\".\n",
    "    - 'Buenos Aires', 'Ciudad Autónoma de Buenos Aires'. En este caso deberéis poner en ambos casos \"Buenos Aires\""
   ]
  },
  {
   "cell_type": "code",
   "execution_count": 42,
   "metadata": {},
   "outputs": [],
   "source": [
    "lista_estados = df_universidades[\"state_province\"].value_counts().index"
   ]
  },
  {
   "cell_type": "code",
   "execution_count": 125,
   "metadata": {},
   "outputs": [],
   "source": [
    "reemplazo_siglas = [estado.replace(\"NV\", \"Nevada\").replace(\"TX\", \"Texas\").replace(\"IN\", \"Indianapolis\").replace(\"CA\", \"California\").replace(\"VA\", \"Virginia\").replace(\"New York, NY\", \"New York\").replace(\"NY\", \"New York\").replace(\"MI\", \"Michigan\").replace(\"GA\", \"Georgia\").replace(\"ND\", \"North Dakota\").replace(\"Ciudad Autónoma de Buenos Aires\", \"Buenos Aires\")\n",
    "                    for estado in lista_estados]"
   ]
  },
  {
   "cell_type": "code",
   "execution_count": 126,
   "metadata": {},
   "outputs": [],
   "source": [
    "dict_siglas = dict(zip(lista_estados, reemplazo_siglas))"
   ]
  },
  {
   "cell_type": "code",
   "execution_count": 127,
   "metadata": {},
   "outputs": [
    {
     "name": "stdout",
     "output_type": "stream",
     "text": [
      "{'unknown': 'unknown', 'Ontario': 'Ontario', 'British Columbia': 'British Columbia', 'Pennsylvania': 'Pennsylvania', 'Quebec': 'Quebec', 'Buenos Aires': 'Buenos Aires', 'Ciudad Autónoma de Buenos Aires': 'Buenos Aires', 'Alberta': 'Alberta', 'NY': 'New York', 'New Brunswick': 'New Brunswick', 'Nova Scotia': 'Nova Scotia', 'Manitoba': 'Manitoba', 'California': 'California', 'Córdoba': 'Córdoba', 'New York, NY': 'New York', 'Saskatchewan': 'Saskatchewan', 'Texas': 'Texas', 'Entre Ríos': 'Entre Ríos', 'Santa Fé': 'Santa Fé', 'Mendoza': 'Mendoza', 'North Carolina': 'North Carolina', 'TX': 'Texas', 'Ohio': 'Ohio', 'GA': 'Georgia', 'CA': 'California', 'Santiago Del Estero': 'Santiago Del Estero', 'Salta': 'Salta', 'Washington': 'Washington', 'Misiones': 'Misiones', 'Catamarca': 'Catamarca', 'Yukon': 'Yukon', 'Formosa': 'Formosa', 'Jujuy': 'Jujuy', 'La Rioja': 'La Rioja', 'La Pampa': 'La Pampa', 'San Juan': 'San Juan', 'San Luis': 'San Luis', 'Prince Edward Island': 'Prince Edward Island', 'Maine': 'Maine', 'Newfoundland and Labrador': 'Newfoundland and Labrador', 'New York': 'New York', 'Utah': 'Utah', 'NV': 'Nevada', 'Iowa': 'Iowa', 'VA': 'Virginia', 'Indiana': 'Indiana', 'Colorado': 'Colorado', 'IN': 'Indianapolis', 'Illinois': 'Illinois', 'Michigan': 'Michigan', 'New Hampshire': 'New Hampshire', 'South Carolina': 'South Carolina', 'Virginia': 'Virginia', 'Missouri': 'Missouri', 'ND': 'North Dakota', 'MI': 'Michigan', 'Florida': 'Florida', 'Tucumán': 'Tucumán'}\n"
     ]
    }
   ],
   "source": [
    "print(dict_siglas)"
   ]
  },
  {
   "cell_type": "code",
   "execution_count": 128,
   "metadata": {},
   "outputs": [],
   "source": [
    "df_universidades[\"state_province\"] = df_universidades[\"state_province\"].map(dict_siglas, na_action=\"ignore\")"
   ]
  },
  {
   "cell_type": "code",
   "execution_count": 44,
   "metadata": {},
   "outputs": [],
   "source": [
    "# Otra manera más eficiente de hacerlo:\n",
    "\n",
    "reemplazos = {'NV':'Nevada','VA':'Virginia', 'TX':'Texas','IN':'Indianapolis','CA':'California','NY':'New York', 'ND':'North Dakota', 'MI':'Michigan',\n",
    "       'GA':'Georgia', 'New York, NY':'New York','Ciudad Autónoma de Buenos Aires':'Buenos Aires'}\n",
    "\n",
    "df_universidades[\"state_province\"] = df_universidades[\"state_province\"].replace(reemplazos)"
   ]
  },
  {
   "cell_type": "markdown",
   "metadata": {},
   "source": [
    "___\n",
    "- Una vez realizados los pasos anteriores, crea una lista con los valores únicos de las provincias de las universidades."
   ]
  },
  {
   "cell_type": "code",
   "execution_count": 45,
   "metadata": {},
   "outputs": [
    {
     "data": {
      "text/plain": [
       "array(['unknown', 'Pennsylvania', 'Texas', 'Utah', 'Nevada', 'Iowa',\n",
       "       'Virginia', 'Indiana', 'Colorado', 'Ohio', 'Indianapolis',\n",
       "       'New York', 'California', 'Illinois', 'New Hampshire',\n",
       "       'North Carolina', 'South Carolina', 'Washington', 'Missouri',\n",
       "       'North Dakota', 'Michigan', 'Florida', 'Georgia', 'Maine',\n",
       "       'Quebec', 'Ontario', 'Nova Scotia', 'British Columbia', 'Alberta',\n",
       "       'Manitoba', 'New Brunswick', 'Saskatchewan',\n",
       "       'Newfoundland and Labrador', 'Prince Edward Island', 'Yukon',\n",
       "       'Buenos Aires', 'Entre Ríos', 'Salta', 'Córdoba', 'Mendoza',\n",
       "       'Santa Fé', 'Santiago Del Estero', 'Misiones', 'Catamarca',\n",
       "       'Formosa', 'Jujuy', 'La Rioja', 'La Pampa', 'San Juan', 'San Luis',\n",
       "       'Tucumán'], dtype=object)"
      ]
     },
     "execution_count": 45,
     "metadata": {},
     "output_type": "execute_result"
    }
   ],
   "source": [
    "lista_estados_ok = df_universidades[\"state_province\"].unique()\n",
    "lista_estados_ok"
   ]
  },
  {
   "cell_type": "markdown",
   "metadata": {},
   "source": [
    "___\n",
    "- Usando la API de geopy, extraed la latitud y la longitud de cada una de las provincias y almacenad los resultados en un dataframe."
   ]
  },
  {
   "cell_type": "code",
   "execution_count": 130,
   "metadata": {},
   "outputs": [],
   "source": [
    "geo = Nominatim(user_agent = 'Ana')"
   ]
  },
  {
   "cell_type": "code",
   "execution_count": 131,
   "metadata": {},
   "outputs": [
    {
     "data": {
      "text/plain": [
       "Location(South Carolina, United States, (33.6874388, -80.4363743, 0.0))"
      ]
     },
     "execution_count": 131,
     "metadata": {},
     "output_type": "execute_result"
    }
   ],
   "source": [
    "geo = Nominatim(user_agent = 'Ana')\n",
    "localizacion = geo.geocode('South Carolina')\n",
    "localizacion"
   ]
  },
  {
   "cell_type": "code",
   "execution_count": 132,
   "metadata": {},
   "outputs": [],
   "source": [
    "df_geopy = pd.DataFrame(lista_estados_ok, columns = [\"state_province\"])"
   ]
  },
  {
   "cell_type": "code",
   "execution_count": 133,
   "metadata": {},
   "outputs": [],
   "source": [
    "def sacar_localizacion(estado):\n",
    "    \n",
    "    if estado != \"unknown\":\n",
    "        return geo.geocode(estado)[-1]\n",
    "    \n",
    "    else:\n",
    "        return np.nan, np.nan"
   ]
  },
  {
   "cell_type": "code",
   "execution_count": 134,
   "metadata": {},
   "outputs": [],
   "source": [
    "df_geopy[[\"latitud\", \"longitud\"]] = df_geopy.apply(lambda df: sacar_localizacion(df[\"state_province\"]), axis= 1, result_type = \"expand\")"
   ]
  },
  {
   "cell_type": "code",
   "execution_count": 135,
   "metadata": {},
   "outputs": [
    {
     "data": {
      "text/html": [
       "<div>\n",
       "<style scoped>\n",
       "    .dataframe tbody tr th:only-of-type {\n",
       "        vertical-align: middle;\n",
       "    }\n",
       "\n",
       "    .dataframe tbody tr th {\n",
       "        vertical-align: top;\n",
       "    }\n",
       "\n",
       "    .dataframe thead th {\n",
       "        text-align: right;\n",
       "    }\n",
       "</style>\n",
       "<table border=\"1\" class=\"dataframe\">\n",
       "  <thead>\n",
       "    <tr style=\"text-align: right;\">\n",
       "      <th></th>\n",
       "      <th>state_province</th>\n",
       "      <th>latitud</th>\n",
       "      <th>longitud</th>\n",
       "    </tr>\n",
       "  </thead>\n",
       "  <tbody>\n",
       "    <tr>\n",
       "      <th>0</th>\n",
       "      <td>unknown</td>\n",
       "      <td>NaN</td>\n",
       "      <td>NaN</td>\n",
       "    </tr>\n",
       "    <tr>\n",
       "      <th>1</th>\n",
       "      <td>Pennsylvania</td>\n",
       "      <td>40.969989</td>\n",
       "      <td>-77.727883</td>\n",
       "    </tr>\n",
       "  </tbody>\n",
       "</table>\n",
       "</div>"
      ],
      "text/plain": [
       "  state_province    latitud   longitud\n",
       "0        unknown        NaN        NaN\n",
       "1   Pennsylvania  40.969989 -77.727883"
      ]
     },
     "execution_count": 135,
     "metadata": {},
     "output_type": "execute_result"
    }
   ],
   "source": [
    "df_geopy.head(2)"
   ]
  },
  {
   "cell_type": "code",
   "execution_count": null,
   "metadata": {},
   "outputs": [],
   "source": [
    "#librería sleep from time"
   ]
  },
  {
   "cell_type": "markdown",
   "metadata": {},
   "source": [
    "___\n",
    "- Una vez que tengáis los datos del ejercicio anterior en un dataframe, unidlo con el de las universidades que hemos sacado de la API."
   ]
  },
  {
   "cell_type": "code",
   "execution_count": 136,
   "metadata": {},
   "outputs": [
    {
     "data": {
      "text/plain": [
       "(51, 3)"
      ]
     },
     "execution_count": 136,
     "metadata": {},
     "output_type": "execute_result"
    }
   ],
   "source": [
    "df_geopy.shape"
   ]
  },
  {
   "cell_type": "code",
   "execution_count": 137,
   "metadata": {},
   "outputs": [
    {
     "data": {
      "text/plain": [
       "(2491, 5)"
      ]
     },
     "execution_count": 137,
     "metadata": {},
     "output_type": "execute_result"
    }
   ],
   "source": [
    "df_universidades.shape"
   ]
  },
  {
   "cell_type": "code",
   "execution_count": 138,
   "metadata": {},
   "outputs": [
    {
     "data": {
      "text/html": [
       "<div>\n",
       "<style scoped>\n",
       "    .dataframe tbody tr th:only-of-type {\n",
       "        vertical-align: middle;\n",
       "    }\n",
       "\n",
       "    .dataframe tbody tr th {\n",
       "        vertical-align: top;\n",
       "    }\n",
       "\n",
       "    .dataframe thead th {\n",
       "        text-align: right;\n",
       "    }\n",
       "</style>\n",
       "<table border=\"1\" class=\"dataframe\">\n",
       "  <thead>\n",
       "    <tr style=\"text-align: right;\">\n",
       "      <th></th>\n",
       "      <th>web_pages</th>\n",
       "      <th>alpha_two_code</th>\n",
       "      <th>state_province</th>\n",
       "      <th>name</th>\n",
       "      <th>country</th>\n",
       "      <th>latitud</th>\n",
       "      <th>longitud</th>\n",
       "    </tr>\n",
       "  </thead>\n",
       "  <tbody>\n",
       "    <tr>\n",
       "      <th>2213</th>\n",
       "      <td>https://www.loc.edu/</td>\n",
       "      <td>US</td>\n",
       "      <td>unknown</td>\n",
       "      <td>LeMoyne-Owen College</td>\n",
       "      <td>United States</td>\n",
       "      <td>NaN</td>\n",
       "      <td>NaN</td>\n",
       "    </tr>\n",
       "    <tr>\n",
       "      <th>1545</th>\n",
       "      <td>http://www.witcc.edu</td>\n",
       "      <td>US</td>\n",
       "      <td>unknown</td>\n",
       "      <td>Western Iowa Tech Community College</td>\n",
       "      <td>United States</td>\n",
       "      <td>NaN</td>\n",
       "      <td>NaN</td>\n",
       "    </tr>\n",
       "  </tbody>\n",
       "</table>\n",
       "</div>"
      ],
      "text/plain": [
       "                 web_pages alpha_two_code state_province  \\\n",
       "2213  https://www.loc.edu/             US        unknown   \n",
       "1545  http://www.witcc.edu             US        unknown   \n",
       "\n",
       "                                     name        country  latitud  longitud  \n",
       "2213                 LeMoyne-Owen College  United States      NaN       NaN  \n",
       "1545  Western Iowa Tech Community College  United States      NaN       NaN  "
      ]
     },
     "execution_count": 138,
     "metadata": {},
     "output_type": "execute_result"
    }
   ],
   "source": [
    "df_universidades = pd.merge(left=df_universidades, right=df_geopy, how='left', on='state_province')\n",
    "\n",
    "df_universidades.sample(2)"
   ]
  },
  {
   "cell_type": "code",
   "execution_count": 139,
   "metadata": {},
   "outputs": [
    {
     "data": {
      "text/plain": [
       "(2491, 7)"
      ]
     },
     "execution_count": 139,
     "metadata": {},
     "output_type": "execute_result"
    }
   ],
   "source": [
    "df_universidades.shape"
   ]
  },
  {
   "cell_type": "markdown",
   "metadata": {},
   "source": [
    "___\n",
    "8. Crea una BBDD en mysql que contenga las siguientes tablas:\n",
    "- Tabla países: donde encontraremos las siguientes columnas:\n",
    "    - idestado: primary key, integer, autoincremental\n",
    "    - nombre_pais: varchar\n",
    "    - nombre_provincia: varchar\n",
    "    - latitud: decimal\n",
    "    - longitud: decimal\n",
    "- Tabla universidades: donde encontraremos las siguientes columnas:\n",
    "    - iduniversidades: primary key, integer, autoincremental\n",
    "    - nombre_universidad: varchar\n",
    "    - pagina_web: varchar\n",
    "    - paises_idestado: foreing key"
   ]
  },
  {
   "cell_type": "markdown",
   "metadata": {},
   "source": [
    "Scrip de creación en la siguiente ruta: `src/script_creacion_bbdd_universidades.sql`, con el siguiente esquema:\n",
    "\n",
    "\n",
    "![bbdd_universidades_esquema](../images/bbdd_universidades_esquema.png)"
   ]
  },
  {
   "cell_type": "markdown",
   "metadata": {},
   "source": [
    "___\n",
    "9. Introduce todo el código que habéis ido creando en funciones, siguiendo la misma lógica que hemos seguido en los pairs:\n"
   ]
  },
  {
   "cell_type": "code",
   "execution_count": 140,
   "metadata": {},
   "outputs": [],
   "source": [
    "def llamar_api():\n",
    "    \n",
    "    \"\"\"\n",
    "    Realiza llamadas a una API para obtener información de universidades en diferentes países.\n",
    "    \n",
    "    Returns:\n",
    "        pd.DataFrame: DataFrame con la información de universidades.\n",
    "    \"\"\"\n",
    "    \n",
    "    df_universidades = pd.DataFrame() #creamos un dataframe vacío en el que ir sumando cada país\n",
    "    \n",
    "    paises = [\"United States\", \"Canada\", \"Argentina\"]\n",
    "    \n",
    "    for pais in paises:\n",
    "        response = requests.get(url= f\"http://universities.hipolabs.com/search?country={pais}\")\n",
    "        print(f\"Resultado de la conexión de {pais}: {response.status_code} {response.reason}\")\n",
    "        df = pd.json_normalize(response.json())\n",
    "        df_universidades = pd.concat([df_universidades, df], axis = 0)\n",
    "    return df_universidades"
   ]
  },
  {
   "cell_type": "code",
   "execution_count": 141,
   "metadata": {},
   "outputs": [],
   "source": [
    "def limpiar(dataframe= df_universidades):\n",
    "    \n",
    "    \"\"\"\n",
    "    Limpia y transforma el DataFrame recibido.\n",
    "\n",
    "    Args:\n",
    "        dataframe (pd.DataFrame): DataFrame con información de universidades.\n",
    "\n",
    "    Returns:\n",
    "        pd.DataFrame: DataFrame limpio y transformado.\n",
    "    \"\"\"\n",
    "    \n",
    "    dataframe.columns = [column.replace(\"-\", \"_\") for column in dataframe.columns] # Reemplazamos en los nombres de las columnas \"-\" por \"_\"\n",
    "    dataframe.drop(\"domains\", axis= 1, inplace= True) # Eliminamos la columna \"domains\" (por ser redundante con \"web_page\")\n",
    "    dataframe = dataframe.explode(\"web_pages\") # Creamos una fila por cada \"web_page\"\n",
    "    dataframe.drop_duplicates(subset= \"name\", inplace= True) # Eliminamos duplicados por nombre de universidad\n",
    "    dataframe[\"name\"] = dataframe[\"name\"].str.replace('\"', '') # Reemplazamos las comillas en el nombre de la universidad para que no de error la inserción en SQL\n",
    "    dataframe[\"state_province\"].fillna(\"unknown\", inplace= True) # Reemplazamos los nulos de \"state_province\" por \"unknown\"\n",
    "    \n",
    "    # Creamos el diccionario que necesitamos para limpiar los nombres de los estados:\n",
    "    dict_siglas = {'unknown': 'unknown', 'Ontario': 'Ontario', 'British Columbia': 'British Columbia', 'Pennsylvania': 'Pennsylvania', 'Quebec': 'Quebec', \n",
    "                   'Buenos Aires': 'Buenos Aires', 'Ciudad Autónoma de Buenos Aires': 'Buenos Aires', 'Alberta': 'Alberta', 'NY': 'New York', 'New Brunswick': 'New Brunswick', \n",
    "                   'Nova Scotia': 'Nova Scotia', 'Manitoba': 'Manitoba', 'California': 'California', 'Córdoba': 'Córdoba', 'New York, NY': 'New York', 'Saskatchewan': 'Saskatchewan', \n",
    "                   'Texas': 'Texas', 'Entre Ríos': 'Entre Ríos', 'Santa Fé': 'Santa Fé', 'Mendoza': 'Mendoza', 'North Carolina': 'North Carolina', 'TX': 'Texas', 'Ohio': 'Ohio', \n",
    "                   'GA': 'Georgia', 'CA': 'California', 'Santiago Del Estero': 'Santiago Del Estero', 'Salta': 'Salta', 'Washington': 'Washington', 'Misiones': 'Misiones', \n",
    "                   'Catamarca': 'Catamarca', 'Yukon': 'Yukon', 'Formosa': 'Formosa', 'Jujuy': 'Jujuy', 'La Rioja': 'La Rioja', 'La Pampa': 'La Pampa', 'San Juan': 'San Juan', \n",
    "                   'San Luis': 'San Luis', 'Prince Edward Island': 'Prince Edward Island', 'Maine': 'Maine', 'Newfoundland and Labrador': 'Newfoundland and Labrador', \n",
    "                   'New York': 'New York', 'Utah': 'Utah', 'NV': 'Nevada', 'Iowa': 'Iowa', 'VA': 'Virginia', 'Indiana': 'Indiana', 'Colorado': 'Colorado', 'IN': 'Indianapolis', \n",
    "                   'Illinois': 'Illinois', 'Michigan': 'Michigan', 'New Hampshire': 'New Hampshire', 'South Carolina': 'South Carolina', 'Virginia': 'Virginia', 'Missouri': 'Missouri', \n",
    "                   'ND': 'North Dakota', 'MI': 'Michigan', 'Florida': 'Florida', 'Tucumán': 'Tucumán'}\n",
    "    \n",
    "    dataframe[\"state_province\"] = dataframe[\"state_province\"].map(dict_siglas, na_action=\"ignore\") # Hacemos un map que reemplace los valores según el diccionario anterior\n",
    "    \n",
    "   \n",
    "    return dataframe"
   ]
  },
  {
   "cell_type": "code",
   "execution_count": 142,
   "metadata": {},
   "outputs": [],
   "source": [
    "    # Ahora vamos a crear dos nuevas columnas en el dataframe (latitud y longitud):\n",
    "    \n",
    "def añadir_lat_long(dataframe= df_universidades):\n",
    "\n",
    "    \"\"\"\n",
    "    Añade las columnas de latitud y longitud al DataFrame usando geopy.\n",
    "\n",
    "    Args:\n",
    "        dataframe (pd.DataFrame, optional): DataFrame con información de universidades. Por defecto es df_universidades.\n",
    "\n",
    "    Returns:\n",
    "        pd.DataFrame: DataFrame con las columnas de latitud y longitud añadidas.\n",
    "    \"\"\"\n",
    "    \n",
    "    lista_estados = dataframe[\"state_province\"].unique()    # Sacamos el listado de estados que tenemos en nuestro dataframe\n",
    "\n",
    "    df_geopy = pd.DataFrame(lista_estados, columns = [\"state_province\"]) # Creamos nuevo dataframe con estas provincias\n",
    "    \n",
    "    geo = Nominatim(user_agent = 'Ana') # Llamamos a geopy\n",
    "    \n",
    "    latitud = [] # Creamos dos listas nuevas, que serán nuestras nuevas columnas del dataframe\n",
    "    longitud = [] \n",
    "    \n",
    "    for estado in df_geopy[\"state_province\"]: # Iteramos por cada estado de la columna \"state_province\"\n",
    "        \n",
    "        if estado == \"unknown\": # Si el estado es \"unknown\", queremos que nos devuelva np.nan\n",
    "            latitud.append(np.nan)\n",
    "            longitud.append(np.nan)\n",
    "        \n",
    "        else:       # Sino, sacamos la latitud y la longitud gracias a geopy\n",
    "            lat = geo.geocode(estado)[-1][0]\n",
    "            long = geo.geocode(estado)[-1][1]\n",
    "            latitud.append(lat)\n",
    "            longitud.append(long)\n",
    "\n",
    "    df_geopy[\"latitud\"] = latitud # Añadimos las listas al dataframe\n",
    "    df_geopy[\"longitud\"] = longitud\n",
    "    \n",
    "    # Por último, añadimos estas columnas al dataframe inicial:\n",
    "    \n",
    "    dataframe = pd.merge(left=dataframe, right=df_geopy, how='left', on='state_province')\n",
    "      \n",
    "    return dataframe"
   ]
  },
  {
   "cell_type": "code",
   "execution_count": 143,
   "metadata": {},
   "outputs": [
    {
     "name": "stdout",
     "output_type": "stream",
     "text": [
      "Resultado de la conexión de United States: 200 OK\n"
     ]
    },
    {
     "name": "stdout",
     "output_type": "stream",
     "text": [
      "Resultado de la conexión de Canada: 200 OK\n",
      "Resultado de la conexión de Argentina: 200 OK\n"
     ]
    }
   ],
   "source": [
    "df_universidades2 = llamar_api()"
   ]
  },
  {
   "cell_type": "code",
   "execution_count": 144,
   "metadata": {},
   "outputs": [],
   "source": [
    "df_universidades2 = limpiar(df_universidades2)"
   ]
  },
  {
   "cell_type": "code",
   "execution_count": 145,
   "metadata": {},
   "outputs": [
    {
     "data": {
      "text/html": [
       "<div>\n",
       "<style scoped>\n",
       "    .dataframe tbody tr th:only-of-type {\n",
       "        vertical-align: middle;\n",
       "    }\n",
       "\n",
       "    .dataframe tbody tr th {\n",
       "        vertical-align: top;\n",
       "    }\n",
       "\n",
       "    .dataframe thead th {\n",
       "        text-align: right;\n",
       "    }\n",
       "</style>\n",
       "<table border=\"1\" class=\"dataframe\">\n",
       "  <thead>\n",
       "    <tr style=\"text-align: right;\">\n",
       "      <th></th>\n",
       "      <th>web_pages</th>\n",
       "      <th>alpha_two_code</th>\n",
       "      <th>state_province</th>\n",
       "      <th>name</th>\n",
       "      <th>country</th>\n",
       "    </tr>\n",
       "  </thead>\n",
       "  <tbody>\n",
       "    <tr>\n",
       "      <th>52</th>\n",
       "      <td>http://www.unibo.edu.ar/</td>\n",
       "      <td>AR</td>\n",
       "      <td>unknown</td>\n",
       "      <td>Universidad de Bologna - Representación en Bue...</td>\n",
       "      <td>Argentina</td>\n",
       "    </tr>\n",
       "    <tr>\n",
       "      <th>1548</th>\n",
       "      <td>http://www.allencc.edu</td>\n",
       "      <td>US</td>\n",
       "      <td>unknown</td>\n",
       "      <td>Allen County Community College</td>\n",
       "      <td>United States</td>\n",
       "    </tr>\n",
       "  </tbody>\n",
       "</table>\n",
       "</div>"
      ],
      "text/plain": [
       "                     web_pages alpha_two_code state_province  \\\n",
       "52    http://www.unibo.edu.ar/             AR        unknown   \n",
       "1548    http://www.allencc.edu             US        unknown   \n",
       "\n",
       "                                                   name        country  \n",
       "52    Universidad de Bologna - Representación en Bue...      Argentina  \n",
       "1548                     Allen County Community College  United States  "
      ]
     },
     "execution_count": 145,
     "metadata": {},
     "output_type": "execute_result"
    }
   ],
   "source": [
    "df_universidades2.sample(2)"
   ]
  },
  {
   "cell_type": "code",
   "execution_count": 146,
   "metadata": {},
   "outputs": [],
   "source": [
    "df_universidades2= añadir_lat_long(df_universidades2)"
   ]
  },
  {
   "cell_type": "code",
   "execution_count": 147,
   "metadata": {},
   "outputs": [
    {
     "data": {
      "text/html": [
       "<div>\n",
       "<style scoped>\n",
       "    .dataframe tbody tr th:only-of-type {\n",
       "        vertical-align: middle;\n",
       "    }\n",
       "\n",
       "    .dataframe tbody tr th {\n",
       "        vertical-align: top;\n",
       "    }\n",
       "\n",
       "    .dataframe thead th {\n",
       "        text-align: right;\n",
       "    }\n",
       "</style>\n",
       "<table border=\"1\" class=\"dataframe\">\n",
       "  <thead>\n",
       "    <tr style=\"text-align: right;\">\n",
       "      <th></th>\n",
       "      <th>web_pages</th>\n",
       "      <th>alpha_two_code</th>\n",
       "      <th>state_province</th>\n",
       "      <th>name</th>\n",
       "      <th>country</th>\n",
       "      <th>latitud</th>\n",
       "      <th>longitud</th>\n",
       "    </tr>\n",
       "  </thead>\n",
       "  <tbody>\n",
       "    <tr>\n",
       "      <th>2124</th>\n",
       "      <td>http://www.westerntc.edu</td>\n",
       "      <td>US</td>\n",
       "      <td>unknown</td>\n",
       "      <td>Western Technical College</td>\n",
       "      <td>United States</td>\n",
       "      <td>NaN</td>\n",
       "      <td>NaN</td>\n",
       "    </tr>\n",
       "    <tr>\n",
       "      <th>1023</th>\n",
       "      <td>http://www.umass.edu/</td>\n",
       "      <td>US</td>\n",
       "      <td>unknown</td>\n",
       "      <td>University of Massachusetts at Amherst</td>\n",
       "      <td>United States</td>\n",
       "      <td>NaN</td>\n",
       "      <td>NaN</td>\n",
       "    </tr>\n",
       "  </tbody>\n",
       "</table>\n",
       "</div>"
      ],
      "text/plain": [
       "                     web_pages alpha_two_code state_province  \\\n",
       "2124  http://www.westerntc.edu             US        unknown   \n",
       "1023     http://www.umass.edu/             US        unknown   \n",
       "\n",
       "                                        name        country  latitud  longitud  \n",
       "2124               Western Technical College  United States      NaN       NaN  \n",
       "1023  University of Massachusetts at Amherst  United States      NaN       NaN  "
      ]
     },
     "execution_count": 147,
     "metadata": {},
     "output_type": "execute_result"
    }
   ],
   "source": [
    "df_universidades2.sample(2)"
   ]
  },
  {
   "cell_type": "markdown",
   "metadata": {},
   "source": [
    "___\n",
    "### BONUS"
   ]
  },
  {
   "cell_type": "markdown",
   "metadata": {},
   "source": [
    "10. Introduce los datos en la BBDD de SQL:"
   ]
  },
  {
   "cell_type": "code",
   "execution_count": 148,
   "metadata": {},
   "outputs": [],
   "source": [
    "def crear_bbdd(contraseña, nombre_bbdd):\n",
    "\n",
    "    mydb = mysql.connector.connect(host=\"localhost\",\n",
    "                                    user=\"root\",\n",
    "                                    password=f'{contraseña}',\n",
    "                                    auth_plugin = 'mysql_native_password') \n",
    "    mycursor = mydb.cursor()\n",
    "    print(\"Conexión realizada con éxito\")\n",
    "\n",
    "    try:\n",
    "        mycursor.execute(f\"CREATE DATABASE IF NOT EXISTS {nombre_bbdd};\")\n",
    "        \n",
    "    except:\n",
    "        print(\"La BBDD ya existe\")\n"
   ]
  },
  {
   "cell_type": "code",
   "execution_count": 149,
   "metadata": {},
   "outputs": [
    {
     "name": "stdout",
     "output_type": "stream",
     "text": [
      "Conexión realizada con éxito\n"
     ]
    }
   ],
   "source": [
    "crear_bbdd(\"AlumnaAdalab\", \"universidades\")"
   ]
  },
  {
   "cell_type": "code",
   "execution_count": 150,
   "metadata": {},
   "outputs": [],
   "source": [
    "def crear_tablas(contraseña, nombre_bbdd):\n",
    "    \n",
    "    \"\"\"\n",
    "    Crea una base de datos MySQL si no existe.\n",
    "    \"\"\"\n",
    "    \n",
    "    mydb = mysql.connector.connect(user='root',\n",
    "                                    password= f'{contraseña}',\n",
    "                                    host='127.0.0.1', \n",
    "                                    database=f\"{nombre_bbdd}\",\n",
    "                                    auth_plugin = 'mysql_native_password')\n",
    "    mycursor = mydb.cursor()\n",
    "    \n",
    "    try:\n",
    "        mycursor.execute(\"\"\"CREATE TABLE IF NOT EXISTS `paises` (\n",
    "                            `idestado` INT NOT NULL AUTO_INCREMENT,\n",
    "                            `nombre_pais` VARCHAR(45) NULL,\n",
    "                            `nombre_provincia` VARCHAR(45) NULL,\n",
    "                            `latitud` DECIMAL(10, 7) NULL,\n",
    "                            `longitud` DECIMAL(11, 7) NULL,\n",
    "                            PRIMARY KEY (`idestado`))\n",
    "                            ENGINE = InnoDB;\n",
    "\n",
    "                            CREATE TABLE IF NOT EXISTS `universidades` (\n",
    "                            `iduniversidades` INT NOT NULL AUTO_INCREMENT,\n",
    "                            `nombre_universidad` VARCHAR(100),\n",
    "                            `pagina_web` VARCHAR(100) NULL,\n",
    "                            `paises_idestado` INT NOT NULL,\n",
    "                            PRIMARY KEY (`iduniversidades`),\n",
    "                            CONSTRAINT `fk_universidades_paises`\n",
    "                                FOREIGN KEY (`paises_idestado`)\n",
    "                                REFERENCES `paises` (`idestado`)\n",
    "                                ON DELETE NO ACTION\n",
    "                                ON UPDATE NO ACTION)\n",
    "                            ENGINE = InnoDB;\"\"\")\n",
    "        \n",
    "    except mysql.connector.Error as err:\n",
    "            print(err)\n",
    "            print(\"Error Code:\", err.errno)\n",
    "            print(\"SQLSTATE\", err.sqlstate)\n",
    "            print(\"Message\", err.msg)"
   ]
  },
  {
   "cell_type": "code",
   "execution_count": 151,
   "metadata": {},
   "outputs": [],
   "source": [
    "crear_tablas(\"AlumnaAdalab\", \"universidades\")"
   ]
  },
  {
   "cell_type": "code",
   "execution_count": 152,
   "metadata": {},
   "outputs": [],
   "source": [
    "def insertar_paises(dataframe, contraseña, nombre_bbdd):\n",
    "    \n",
    "    \"\"\"\n",
    "    Inserta información de países en la base de datos.\n",
    "\n",
    "    Args:\n",
    "        dataframe (pd.DataFrame): DataFrame con información de universidades.\n",
    "        contraseña (str): Contraseña para la base de datos MySQL.\n",
    "        nombre_bbdd (str): Nombre de la base de datos.\n",
    "\n",
    "    \"\"\"\n",
    "    \n",
    "    df_paises = dataframe[[\"state_province\", \"country\", \"latitud\", \"longitud\"]].drop_duplicates()\n",
    "    \n",
    "    for _, fila in df_paises.iterrows():\n",
    "        \n",
    "        mydb = mysql.connector.connect(user='root',\n",
    "                        password=f\"{contraseña}\",\n",
    "                        host='127.0.0.1',\n",
    "                        database=f\"{nombre_bbdd}\",\n",
    "                        auth_plugin = 'mysql_native_password')\n",
    "        \n",
    "        mycursor = mydb.cursor()\n",
    "        \n",
    "        mycursor.execute(\"SELECT DISTINCT nombre_provincia FROM paises;\")\n",
    "    \n",
    "        ciudades = mycursor.fetchall()\n",
    "\n",
    "        if tuple([fila[\"state_province\"],fila[\"country\"]]) not in ciudades:\n",
    "\n",
    "            if fila[\"state_province\"] != \"unknown\":\n",
    "                \n",
    "                try: \n",
    "                    mycursor.execute(f\"\"\"INSERT INTO paises (nombre_pais, nombre_provincia, latitud, longitud)\n",
    "                                VALUES ('{fila[\"country\"]}', '{fila[\"state_province\"]}', {fila[\"latitud\"]}, {fila[\"longitud\"]})\"\"\")\n",
    "                    mydb.commit() \n",
    "\n",
    "                except mysql.connector.Error as err:\n",
    "                    print(err)\n",
    "                    print(\"Error Code:\", err.errno)\n",
    "                    print(\"SQLSTATE\", err.sqlstate)\n",
    "                    print(\"Message\", err.msg)\n",
    "            \n",
    "            else:\n",
    "                \n",
    "                try: \n",
    "                    mycursor.execute(f\"\"\"INSERT INTO paises (nombre_pais, nombre_provincia, latitud, longitud)\n",
    "                                VALUES ('{fila[\"country\"]}', '{fila[\"state_province\"]}', NULL, NULL)\"\"\")\n",
    "                    mydb.commit() \n",
    "\n",
    "                except mysql.connector.Error as err:\n",
    "                    print(err)\n",
    "                    print(\"Error Code:\", err.errno)\n",
    "                    print(\"SQLSTATE\", err.sqlstate)\n",
    "                    print(\"Message\", err.msg) \n",
    " "
   ]
  },
  {
   "cell_type": "code",
   "execution_count": 153,
   "metadata": {},
   "outputs": [],
   "source": [
    "def insertar_universidades(dataframe, contraseña, nombre_bbdd):\n",
    "    \n",
    "    \"\"\"\n",
    "    Inserta información de universidades en la base de datos.\n",
    "\n",
    "    Args:\n",
    "        dataframe (pd.DataFrame): DataFrame con información de universidades.\n",
    "        contraseña (str): Contraseña para la base de datos MySQL.\n",
    "        nombre_bbdd (str): Nombre de la base de datos.\n",
    "\n",
    "    \"\"\"\n",
    "\n",
    "    for _, fila in dataframe.iterrows():\n",
    "        \n",
    "        mydb = mysql.connector.connect(user='root', password=f'{contraseña}',\n",
    "                                host='127.0.0.1', database=f'{nombre_bbdd}',  auth_plugin = 'mysql_native_password')\n",
    "        mycursor = mydb.cursor()\n",
    "        \n",
    "        mycursor.execute(\"SELECT DISTINCT pagina_web FROM universidades;\")\n",
    "    \n",
    "        webs = mycursor.fetchall()\n",
    "        \n",
    "        lista_webs = [web[0] for web in webs]\n",
    "        \n",
    "        if fila[\"web_pages\"] not in lista_webs:\n",
    "        \n",
    "            try: \n",
    "                mycursor.execute(f\"\"\"SELECT idestado\n",
    "                                FROM paises WHERE nombre_provincia = '{fila[\"state_province\"]}' and nombre_pais = '{fila[\"country\"]}'\"\"\")\n",
    "                idestado = mycursor.fetchall()[0][0]\n",
    "                \n",
    "                try: \n",
    "                    mycursor.execute(f\"\"\"\n",
    "                            INSERT INTO universidades (nombre_universidad, pagina_web, paises_idestado) \n",
    "                            VALUES (\"{fila[\"name\"]}\", \"{fila[\"web_pages\"]}\", {idestado});\n",
    "                            \"\"\")\n",
    "                    mydb.commit() \n",
    "\n",
    "                except mysql.connector.Error as err:\n",
    "                    print('_______')\n",
    "                    print(f'Error al insertar la universidad {fila[\"name\"]} y la pagina {fila[\"web_pages\"]} perteneciente al estado {fila[\"state_province\"]} en el país {fila[\"country\"]}')\n",
    "                    print(err)\n",
    "                    print(\"Error Code:\", err.errno)\n",
    "                    print(\"SQLSTATE\", err.sqlstate)\n",
    "                    print(\"Message\", err.msg)\n",
    "                    \n",
    "            except: \n",
    "                print(f'Sorry, no tenemos el estado {fila[\"state_province\"]} en el país {fila[\"country\"]} en la BBDD y por lo tanto no te podemos dar su id.')"
   ]
  },
  {
   "cell_type": "code",
   "execution_count": 154,
   "metadata": {},
   "outputs": [],
   "source": [
    "insertar_paises(df_universidades, \"AlumnaAdalab\", \"universidades\")"
   ]
  },
  {
   "cell_type": "code",
   "execution_count": 155,
   "metadata": {},
   "outputs": [],
   "source": [
    "insertar_universidades(df_universidades, \"AlumnaAdalab\", \"universidades\")"
   ]
  }
 ],
 "metadata": {
  "kernelspec": {
   "display_name": "Python 3",
   "language": "python",
   "name": "python3"
  },
  "language_info": {
   "codemirror_mode": {
    "name": "ipython",
    "version": 3
   },
   "file_extension": ".py",
   "mimetype": "text/x-python",
   "name": "python",
   "nbconvert_exporter": "python",
   "pygments_lexer": "ipython3",
   "version": "3.10.11"
  },
  "orig_nbformat": 4
 },
 "nbformat": 4,
 "nbformat_minor": 2
}
